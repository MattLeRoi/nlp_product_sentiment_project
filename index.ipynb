{
 "cells": [
  {
   "cell_type": "markdown",
   "metadata": {},
   "source": [
    "# Phase 4 project"
   ]
  },
  {
   "cell_type": "markdown",
   "metadata": {},
   "source": [
    "Topic 4: Natural Language Processing (NLP)\n",
    "If you choose this option, you'll build an NLP model to analyze Twitter sentiment about Apple and Google products. The dataset comes from CrowdFlower via data.world. Human raters rated the sentiment in over 9,000 Tweets as positive, negative, or neither.\n",
    "\n",
    "Your task is to:\n",
    "\n",
    "Build a model that can rate the sentiment of a Tweet based on its content.\n",
    "\n",
    "Aim for a Proof of Concept\n",
    "There are many approaches to NLP problems - start with something simple and iterate from there. For example, you could start by limiting your analysis to positive and negative Tweets only, allowing you to build a binary classifier. Then you could add in the neutral Tweets to build out a multiclass classifier. You may also consider using some of the more advanced NLP methods in the Mod 4 Appendix.\n",
    "\n",
    "Evaluation\n",
    "Evaluating multiclass classifiers can be trickier than binary classifiers because there are multiple ways to mis-classify an observation, and some errors are more problematic than others. Use the business problem that your NLP project sets out to solve to inform your choice of evaluation metrics."
   ]
  },
  {
   "cell_type": "markdown",
   "metadata": {},
   "source": [
    "## Summary\n",
    "The notebook should include a summary at the beginning that briefly and accurately describes your process. The summary should be approximately 250 words -- about the size of a research paper abstract."
   ]
  },
  {
   "cell_type": "markdown",
   "metadata": {},
   "source": [
    "# Notes:\n",
    "\n",
    "|  ||\n",
    "|:-----|:----:|\n",
    "|lines total     |9093     |\n",
    "|have \"directed_at\" product  |3291     |\n",
    "\n",
    "\n",
    "|Sentiment  |Count|\n",
    "|:-----|:----:|\n",
    "|No emotion toward brand or product     |5389     |\n",
    "|Positive emotion     |2978     |\n",
    "|Negative emotion     |570     |\n",
    "|I can't tell     |156     |\n",
    "\n",
    "\n",
    "iPad                               946<br>\n",
    "Apple                              661<br>\n",
    "iPad or iPhone App                 470<br>\n",
    "Google                             430<br>\n",
    "iPhone                             297<br>\n",
    "Other Google product or service    293<br>\n",
    "Android App                         81<br>\n",
    "Android                             78<br>\n",
    "Other Apple product or service      35\n",
    "\n",
    "\n"
   ]
  },
  {
   "cell_type": "markdown",
   "metadata": {},
   "source": [
    "---\n",
    "## Part 1: KNN + Pipelines [Suggested time: 20 minutes]\n",
    "---"
   ]
  },
  {
   "cell_type": "code",
   "execution_count": 1,
   "metadata": {},
   "outputs": [
    {
     "name": "stderr",
     "output_type": "stream",
     "text": [
      "[nltk_data] Downloading package punkt to\n",
      "[nltk_data]     C:\\Users\\mleroi\\AppData\\Roaming\\nltk_data...\n",
      "[nltk_data]   Package punkt is already up-to-date!\n",
      "[nltk_data] Downloading package stopwords to\n",
      "[nltk_data]     C:\\Users\\mleroi\\AppData\\Roaming\\nltk_data...\n",
      "[nltk_data]   Package stopwords is already up-to-date!\n"
     ]
    }
   ],
   "source": [
    "# Run this cell without changes\n",
    "import pandas as pd\n",
    "import numpy as np\n",
    "import matplotlib.pyplot as plt\n",
    "import seaborn as sns\n",
    "\n",
    "from sklearn.pipeline import Pipeline\n",
    "from sklearn.impute import SimpleImputer\n",
    "from sklearn.preprocessing import StandardScaler, LabelEncoder\n",
    "from sklearn.neighbors import KNeighborsClassifier\n",
    "from sklearn.metrics import accuracy_score, confusion_matrix, ConfusionMatrixDisplay, silhouette_score\n",
    "\n",
    "from sklearn.model_selection import train_test_split, GridSearchCV\n",
    "from keras import models\n",
    "from keras import layers\n",
    "from keras import optimizers\n",
    "\n",
    "from keras.preprocessing.text import Tokenizer\n",
    "from tensorflow.keras.utils import to_categorical\n",
    "\n",
    "import nltk\n",
    "import re\n",
    "nltk.download('punkt')\n",
    "from nltk.tokenize import word_tokenize\n",
    "nltk.download('stopwords')\n",
    "from nltk.corpus import stopwords\n",
    "from nltk.stem import SnowballStemmer\n",
    "\n",
    "from sklearn.feature_extraction.text import TfidfVectorizer\n",
    "from sklearn.naive_bayes import MultinomialNB\n",
    "\n",
    "from sklearn.cluster import KMeans"
   ]
  },
  {
   "cell_type": "code",
   "execution_count": 2,
   "metadata": {
    "scrolled": true
   },
   "outputs": [
    {
     "name": "stdout",
     "output_type": "stream",
     "text": [
      "<class 'pandas.core.frame.DataFrame'>\n",
      "RangeIndex: 9093 entries, 0 to 9092\n",
      "Data columns (total 3 columns):\n",
      " #   Column                                              Non-Null Count  Dtype \n",
      "---  ------                                              --------------  ----- \n",
      " 0   tweet_text                                          9092 non-null   object\n",
      " 1   emotion_in_tweet_is_directed_at                     3291 non-null   object\n",
      " 2   is_there_an_emotion_directed_at_a_brand_or_product  9093 non-null   object\n",
      "dtypes: object(3)\n",
      "memory usage: 213.2+ KB\n"
     ]
    }
   ],
   "source": [
    "df = pd.read_csv('judge-1377884607_tweet_product_company.csv', encoding='latin1')\n",
    "df.info()"
   ]
  },
  {
   "cell_type": "code",
   "execution_count": 3,
   "metadata": {},
   "outputs": [],
   "source": [
    "processed_df=df.dropna(subset=['tweet_text']).copy()\n",
    "processed_df.drop_duplicates(subset=['tweet_text'], inplace=True)"
   ]
  },
  {
   "cell_type": "code",
   "execution_count": 4,
   "metadata": {},
   "outputs": [
    {
     "data": {
      "text/html": [
       "<div>\n",
       "<style scoped>\n",
       "    .dataframe tbody tr th:only-of-type {\n",
       "        vertical-align: middle;\n",
       "    }\n",
       "\n",
       "    .dataframe tbody tr th {\n",
       "        vertical-align: top;\n",
       "    }\n",
       "\n",
       "    .dataframe thead th {\n",
       "        text-align: right;\n",
       "    }\n",
       "</style>\n",
       "<table border=\"1\" class=\"dataframe\">\n",
       "  <thead>\n",
       "    <tr style=\"text-align: right;\">\n",
       "      <th></th>\n",
       "      <th>tweet_text</th>\n",
       "      <th>emotion_in_tweet_is_directed_at</th>\n",
       "      <th>is_there_an_emotion_directed_at_a_brand_or_product</th>\n",
       "    </tr>\n",
       "  </thead>\n",
       "  <tbody>\n",
       "    <tr>\n",
       "      <th>0</th>\n",
       "      <td>.@wesley83 I have a 3G iPhone. After 3 hrs twe...</td>\n",
       "      <td>iPhone</td>\n",
       "      <td>Negative emotion</td>\n",
       "    </tr>\n",
       "    <tr>\n",
       "      <th>1</th>\n",
       "      <td>@jessedee Know about @fludapp ? Awesome iPad/i...</td>\n",
       "      <td>iPad or iPhone App</td>\n",
       "      <td>Positive emotion</td>\n",
       "    </tr>\n",
       "    <tr>\n",
       "      <th>2</th>\n",
       "      <td>@swonderlin Can not wait for #iPad 2 also. The...</td>\n",
       "      <td>iPad</td>\n",
       "      <td>Positive emotion</td>\n",
       "    </tr>\n",
       "    <tr>\n",
       "      <th>3</th>\n",
       "      <td>@sxsw I hope this year's festival isn't as cra...</td>\n",
       "      <td>iPad or iPhone App</td>\n",
       "      <td>Negative emotion</td>\n",
       "    </tr>\n",
       "    <tr>\n",
       "      <th>4</th>\n",
       "      <td>@sxtxstate great stuff on Fri #SXSW: Marissa M...</td>\n",
       "      <td>Google</td>\n",
       "      <td>Positive emotion</td>\n",
       "    </tr>\n",
       "    <tr>\n",
       "      <th>...</th>\n",
       "      <td>...</td>\n",
       "      <td>...</td>\n",
       "      <td>...</td>\n",
       "    </tr>\n",
       "    <tr>\n",
       "      <th>9088</th>\n",
       "      <td>Ipad everywhere. #SXSW {link}</td>\n",
       "      <td>iPad</td>\n",
       "      <td>Positive emotion</td>\n",
       "    </tr>\n",
       "    <tr>\n",
       "      <th>9089</th>\n",
       "      <td>Wave, buzz... RT @mention We interrupt your re...</td>\n",
       "      <td>NaN</td>\n",
       "      <td>No emotion toward brand or product</td>\n",
       "    </tr>\n",
       "    <tr>\n",
       "      <th>9090</th>\n",
       "      <td>Google's Zeiger, a physician never reported po...</td>\n",
       "      <td>NaN</td>\n",
       "      <td>No emotion toward brand or product</td>\n",
       "    </tr>\n",
       "    <tr>\n",
       "      <th>9091</th>\n",
       "      <td>Some Verizon iPhone customers complained their...</td>\n",
       "      <td>NaN</td>\n",
       "      <td>No emotion toward brand or product</td>\n",
       "    </tr>\n",
       "    <tr>\n",
       "      <th>9092</th>\n",
       "      <td>Ï¡Ïàü_ÊÎÒ£Áââ_£â_ÛâRT @...</td>\n",
       "      <td>NaN</td>\n",
       "      <td>No emotion toward brand or product</td>\n",
       "    </tr>\n",
       "  </tbody>\n",
       "</table>\n",
       "<p>9065 rows × 3 columns</p>\n",
       "</div>"
      ],
      "text/plain": [
       "                                             tweet_text  \\\n",
       "0     .@wesley83 I have a 3G iPhone. After 3 hrs twe...   \n",
       "1     @jessedee Know about @fludapp ? Awesome iPad/i...   \n",
       "2     @swonderlin Can not wait for #iPad 2 also. The...   \n",
       "3     @sxsw I hope this year's festival isn't as cra...   \n",
       "4     @sxtxstate great stuff on Fri #SXSW: Marissa M...   \n",
       "...                                                 ...   \n",
       "9088                      Ipad everywhere. #SXSW {link}   \n",
       "9089  Wave, buzz... RT @mention We interrupt your re...   \n",
       "9090  Google's Zeiger, a physician never reported po...   \n",
       "9091  Some Verizon iPhone customers complained their...   \n",
       "9092  Ï¡Ïàü_ÊÎÒ£Áââ_£â_ÛâRT @...   \n",
       "\n",
       "     emotion_in_tweet_is_directed_at  \\\n",
       "0                             iPhone   \n",
       "1                 iPad or iPhone App   \n",
       "2                               iPad   \n",
       "3                 iPad or iPhone App   \n",
       "4                             Google   \n",
       "...                              ...   \n",
       "9088                            iPad   \n",
       "9089                             NaN   \n",
       "9090                             NaN   \n",
       "9091                             NaN   \n",
       "9092                             NaN   \n",
       "\n",
       "     is_there_an_emotion_directed_at_a_brand_or_product  \n",
       "0                                      Negative emotion  \n",
       "1                                      Positive emotion  \n",
       "2                                      Positive emotion  \n",
       "3                                      Negative emotion  \n",
       "4                                      Positive emotion  \n",
       "...                                                 ...  \n",
       "9088                                   Positive emotion  \n",
       "9089                 No emotion toward brand or product  \n",
       "9090                 No emotion toward brand or product  \n",
       "9091                 No emotion toward brand or product  \n",
       "9092                 No emotion toward brand or product  \n",
       "\n",
       "[9065 rows x 3 columns]"
      ]
     },
     "execution_count": 4,
     "metadata": {},
     "output_type": "execute_result"
    }
   ],
   "source": [
    "processed_df"
   ]
  },
  {
   "cell_type": "code",
   "execution_count": 5,
   "metadata": {},
   "outputs": [
    {
     "data": {
      "text/plain": [
       "iPad                               943\n",
       "Apple                              659\n",
       "iPad or iPhone App                 469\n",
       "Google                             428\n",
       "iPhone                             296\n",
       "Other Google product or service    293\n",
       "Android App                         80\n",
       "Android                             77\n",
       "Other Apple product or service      35\n",
       "Name: emotion_in_tweet_is_directed_at, dtype: int64"
      ]
     },
     "execution_count": 5,
     "metadata": {},
     "output_type": "execute_result"
    }
   ],
   "source": [
    "processed_df['emotion_in_tweet_is_directed_at'].value_counts()"
   ]
  },
  {
   "cell_type": "code",
   "execution_count": 6,
   "metadata": {},
   "outputs": [
    {
     "data": {
      "text/plain": [
       "No emotion toward brand or product    5372\n",
       "Positive emotion                      2968\n",
       "Negative emotion                       569\n",
       "I can't tell                           156\n",
       "Name: is_there_an_emotion_directed_at_a_brand_or_product, dtype: int64"
      ]
     },
     "execution_count": 6,
     "metadata": {},
     "output_type": "execute_result"
    }
   ],
   "source": [
    "processed_df['is_there_an_emotion_directed_at_a_brand_or_product'].value_counts()"
   ]
  },
  {
   "cell_type": "code",
   "execution_count": 7,
   "metadata": {},
   "outputs": [
    {
     "data": {
      "text/html": [
       "<div>\n",
       "<style scoped>\n",
       "    .dataframe tbody tr th:only-of-type {\n",
       "        vertical-align: middle;\n",
       "    }\n",
       "\n",
       "    .dataframe tbody tr th {\n",
       "        vertical-align: top;\n",
       "    }\n",
       "\n",
       "    .dataframe thead th {\n",
       "        text-align: right;\n",
       "    }\n",
       "</style>\n",
       "<table border=\"1\" class=\"dataframe\">\n",
       "  <thead>\n",
       "    <tr style=\"text-align: right;\">\n",
       "      <th></th>\n",
       "      <th>tweet_text</th>\n",
       "      <th>emotion_in_tweet_is_directed_at</th>\n",
       "      <th>is_there_an_emotion_directed_at_a_brand_or_product</th>\n",
       "    </tr>\n",
       "  </thead>\n",
       "  <tbody>\n",
       "    <tr>\n",
       "      <th>0</th>\n",
       "      <td>.@wesley83 I have a 3G iPhone. After 3 hrs twe...</td>\n",
       "      <td>iPhone</td>\n",
       "      <td>Negative emotion</td>\n",
       "    </tr>\n",
       "    <tr>\n",
       "      <th>1</th>\n",
       "      <td>@jessedee Know about @fludapp ? Awesome iPad/i...</td>\n",
       "      <td>iPad or iPhone App</td>\n",
       "      <td>Positive emotion</td>\n",
       "    </tr>\n",
       "    <tr>\n",
       "      <th>2</th>\n",
       "      <td>@swonderlin Can not wait for #iPad 2 also. The...</td>\n",
       "      <td>iPad</td>\n",
       "      <td>Positive emotion</td>\n",
       "    </tr>\n",
       "    <tr>\n",
       "      <th>3</th>\n",
       "      <td>@sxsw I hope this year's festival isn't as cra...</td>\n",
       "      <td>iPad or iPhone App</td>\n",
       "      <td>Negative emotion</td>\n",
       "    </tr>\n",
       "    <tr>\n",
       "      <th>4</th>\n",
       "      <td>@sxtxstate great stuff on Fri #SXSW: Marissa M...</td>\n",
       "      <td>Google</td>\n",
       "      <td>Positive emotion</td>\n",
       "    </tr>\n",
       "    <tr>\n",
       "      <th>...</th>\n",
       "      <td>...</td>\n",
       "      <td>...</td>\n",
       "      <td>...</td>\n",
       "    </tr>\n",
       "    <tr>\n",
       "      <th>9077</th>\n",
       "      <td>@mention your PR guy just convinced me to swit...</td>\n",
       "      <td>iPhone</td>\n",
       "      <td>Positive emotion</td>\n",
       "    </tr>\n",
       "    <tr>\n",
       "      <th>9079</th>\n",
       "      <td>&amp;quot;papyrus...sort of like the ipad&amp;quot; - ...</td>\n",
       "      <td>iPad</td>\n",
       "      <td>Positive emotion</td>\n",
       "    </tr>\n",
       "    <tr>\n",
       "      <th>9080</th>\n",
       "      <td>Diller says Google TV &amp;quot;might be run over ...</td>\n",
       "      <td>Other Google product or service</td>\n",
       "      <td>Negative emotion</td>\n",
       "    </tr>\n",
       "    <tr>\n",
       "      <th>9085</th>\n",
       "      <td>I've always used Camera+ for my iPhone b/c it ...</td>\n",
       "      <td>iPad or iPhone App</td>\n",
       "      <td>Positive emotion</td>\n",
       "    </tr>\n",
       "    <tr>\n",
       "      <th>9088</th>\n",
       "      <td>Ipad everywhere. #SXSW {link}</td>\n",
       "      <td>iPad</td>\n",
       "      <td>Positive emotion</td>\n",
       "    </tr>\n",
       "  </tbody>\n",
       "</table>\n",
       "<p>3537 rows × 3 columns</p>\n",
       "</div>"
      ],
      "text/plain": [
       "                                             tweet_text  \\\n",
       "0     .@wesley83 I have a 3G iPhone. After 3 hrs twe...   \n",
       "1     @jessedee Know about @fludapp ? Awesome iPad/i...   \n",
       "2     @swonderlin Can not wait for #iPad 2 also. The...   \n",
       "3     @sxsw I hope this year's festival isn't as cra...   \n",
       "4     @sxtxstate great stuff on Fri #SXSW: Marissa M...   \n",
       "...                                                 ...   \n",
       "9077  @mention your PR guy just convinced me to swit...   \n",
       "9079  &quot;papyrus...sort of like the ipad&quot; - ...   \n",
       "9080  Diller says Google TV &quot;might be run over ...   \n",
       "9085  I've always used Camera+ for my iPhone b/c it ...   \n",
       "9088                      Ipad everywhere. #SXSW {link}   \n",
       "\n",
       "      emotion_in_tweet_is_directed_at  \\\n",
       "0                              iPhone   \n",
       "1                  iPad or iPhone App   \n",
       "2                                iPad   \n",
       "3                  iPad or iPhone App   \n",
       "4                              Google   \n",
       "...                               ...   \n",
       "9077                           iPhone   \n",
       "9079                             iPad   \n",
       "9080  Other Google product or service   \n",
       "9085               iPad or iPhone App   \n",
       "9088                             iPad   \n",
       "\n",
       "     is_there_an_emotion_directed_at_a_brand_or_product  \n",
       "0                                      Negative emotion  \n",
       "1                                      Positive emotion  \n",
       "2                                      Positive emotion  \n",
       "3                                      Negative emotion  \n",
       "4                                      Positive emotion  \n",
       "...                                                 ...  \n",
       "9077                                   Positive emotion  \n",
       "9079                                   Positive emotion  \n",
       "9080                                   Negative emotion  \n",
       "9085                                   Positive emotion  \n",
       "9088                                   Positive emotion  \n",
       "\n",
       "[3537 rows x 3 columns]"
      ]
     },
     "execution_count": 7,
     "metadata": {},
     "output_type": "execute_result"
    }
   ],
   "source": [
    "pos_neg_df = processed_df[(processed_df['is_there_an_emotion_directed_at_a_brand_or_product'] == 'Positive emotion') | (processed_df['is_there_an_emotion_directed_at_a_brand_or_product'] == 'Negative emotion')]\n",
    "pos_neg_df"
   ]
  },
  {
   "cell_type": "code",
   "execution_count": 8,
   "metadata": {
    "scrolled": true
   },
   "outputs": [
    {
     "name": "stdout",
     "output_type": "stream",
     "text": [
      "Found 6230 unique tokens.\n",
      "Dimensions of our coded results: (3537, 2000)\n"
     ]
    },
    {
     "data": {
      "text/plain": [
       "array([[0., 1., 0., ..., 0., 0., 0.],\n",
       "       [0., 1., 0., ..., 0., 0., 0.],\n",
       "       [0., 1., 0., ..., 0., 0., 0.],\n",
       "       ...,\n",
       "       [0., 1., 0., ..., 0., 0., 0.],\n",
       "       [0., 1., 0., ..., 0., 0., 0.],\n",
       "       [0., 1., 0., ..., 0., 0., 0.]])"
      ]
     },
     "execution_count": 8,
     "metadata": {},
     "output_type": "execute_result"
    }
   ],
   "source": [
    "# Raw text complaints\n",
    "pos_neg_tweets = pos_neg_df['tweet_text'] \n",
    "\n",
    "# Initialize a tokenizer \n",
    "tokenizer = Tokenizer(num_words=2000) \n",
    "\n",
    "# Fit it to the tweets\n",
    "tokenizer.fit_on_texts(pos_neg_tweets) \n",
    "\n",
    "# Similar to sequences, but returns a numpy array\n",
    "one_hot_results= tokenizer.texts_to_matrix(pos_neg_tweets, mode='binary') \n",
    "\n",
    "# Useful if we wish to decode (more explanation below)\n",
    "word_index = tokenizer.word_index \n",
    "\n",
    "# Tokens are the number of unique words across the corpus\n",
    "print('Found %s unique tokens.' % len(word_index)) \n",
    "\n",
    "# Our coded data\n",
    "print('Dimensions of our coded results:', np.shape(one_hot_results)) \n",
    "one_hot_results\n"
   ]
  },
  {
   "cell_type": "code",
   "execution_count": 9,
   "metadata": {},
   "outputs": [
    {
     "name": "stdout",
     "output_type": "stream",
     "text": [
      "[('sxsw', 3686), ('mention', 2505), ('the', 1903), ('to', 1413), ('link', 1316), ('ipad', 1206), ('at', 1162), ('rt', 1071), ('for', 1027), ('apple', 1003), ('a', 950), ('google', 825), ('is', 802), ('of', 771), ('in', 759), ('iphone', 702), ('and', 677), ('quot', 639), ('store', 595), ('i', 582)]\n"
     ]
    }
   ],
   "source": [
    "sorted_word_list = sorted(tokenizer.word_counts.items(), key=lambda item: item[1], reverse=True)\n",
    "print(sorted_word_list[0:20])"
   ]
  },
  {
   "cell_type": "code",
   "execution_count": 10,
   "metadata": {},
   "outputs": [
    {
     "name": "stdout",
     "output_type": "stream",
     "text": [
      "Original class labels:\n",
      "['Negative emotion', 'Positive emotion']\n",
      "\n",
      "\n",
      "New product labels:\n",
      "[0 1 1 ... 0 1 1]\n",
      "\n",
      "\n",
      "One hot labels; 2 binary columns, one for each of the categories.\n",
      "[[1. 0.]\n",
      " [0. 1.]\n",
      " [0. 1.]\n",
      " ...\n",
      " [1. 0.]\n",
      " [0. 1.]\n",
      " [0. 1.]]\n",
      "\n",
      "\n",
      "One hot labels shape:\n",
      "(3537, 2)\n"
     ]
    }
   ],
   "source": [
    "# pos_neg_sentiment = [1 for sent in pos_neg_df['is_there_an_emotion_directed_at_a_brand_or_product']]\n",
    "# len(pos_neg_sentiment)\n",
    "\n",
    "pos_neg_sentiment = pos_neg_df['is_there_an_emotion_directed_at_a_brand_or_product']\n",
    "\n",
    "# Initialize\n",
    "le = LabelEncoder() \n",
    "le.fit(pos_neg_sentiment)\n",
    "print('Original class labels:')\n",
    "print(list(le.classes_))\n",
    "print('\\n')\n",
    "pos_neg_sentiment_cat = le.transform(pos_neg_sentiment)  \n",
    "\n",
    "# If you wish to retrieve the original descriptive labels post production\n",
    "# list(le.inverse_transform([0, 1, 3, 3, 0, 6, 4])) \n",
    "\n",
    "print('New product labels:')\n",
    "print(pos_neg_sentiment_cat)\n",
    "print('\\n')\n",
    "\n",
    "# Each row will be all zeros except for the category for that observation \n",
    "print('One hot labels; 2 binary columns, one for each of the categories.') \n",
    "pos_neg_sentiment_onehot = to_categorical(pos_neg_sentiment_cat)\n",
    "print(pos_neg_sentiment_onehot)\n",
    "print('\\n')\n",
    "\n",
    "print('One hot labels shape:')\n",
    "print(np.shape(pos_neg_sentiment_onehot))"
   ]
  },
  {
   "cell_type": "code",
   "execution_count": 11,
   "metadata": {},
   "outputs": [],
   "source": [
    "X_train_full, X_test, y_train_full, y_test = train_test_split(one_hot_results,pos_neg_sentiment_onehot, test_size=0.15, random_state=42)\n",
    "X_train, X_val, y_train, y_val = train_test_split(X_train_full, y_train_full, test_size=0.2, random_state=42)"
   ]
  },
  {
   "cell_type": "code",
   "execution_count": 12,
   "metadata": {},
   "outputs": [],
   "source": [
    "# Initialize a sequential model\n",
    "model = models.Sequential()\n",
    "\n",
    "# Two layers with relu activation\n",
    "model.add(layers.Dense(50, activation='relu', input_shape=(2000,)))\n",
    "model.add(layers.Dense(25, activation='relu'))\n",
    "\n",
    "# One layer with softmax activation \n",
    "model.add(layers.Dense(2, activation='softmax'))"
   ]
  },
  {
   "cell_type": "code",
   "execution_count": 13,
   "metadata": {},
   "outputs": [],
   "source": [
    "model.compile(optimizer='SGD',loss='categorical_crossentropy', metrics=['accuracy'])"
   ]
  },
  {
   "cell_type": "code",
   "execution_count": 14,
   "metadata": {},
   "outputs": [
    {
     "name": "stdout",
     "output_type": "stream",
     "text": [
      "Epoch 1/120\n",
      "10/10 [==============================] - 0s 21ms/step - loss: 0.6449 - accuracy: 0.8032 - val_loss: 0.6159 - val_accuracy: 0.8405\n",
      "Epoch 2/120\n",
      "10/10 [==============================] - 0s 8ms/step - loss: 0.5970 - accuracy: 0.8403 - val_loss: 0.5731 - val_accuracy: 0.8372\n",
      "Epoch 3/120\n",
      "10/10 [==============================] - 0s 7ms/step - loss: 0.5562 - accuracy: 0.8407 - val_loss: 0.5371 - val_accuracy: 0.8372\n",
      "Epoch 4/120\n",
      "10/10 [==============================] - 0s 10ms/step - loss: 0.5226 - accuracy: 0.8407 - val_loss: 0.5083 - val_accuracy: 0.8372\n",
      "Epoch 5/120\n",
      "10/10 [==============================] - 0s 7ms/step - loss: 0.4962 - accuracy: 0.8407 - val_loss: 0.4861 - val_accuracy: 0.8372\n",
      "Epoch 6/120\n",
      "10/10 [==============================] - 0s 7ms/step - loss: 0.4757 - accuracy: 0.8407 - val_loss: 0.4704 - val_accuracy: 0.8372\n",
      "Epoch 7/120\n",
      "10/10 [==============================] - 0s 8ms/step - loss: 0.4612 - accuracy: 0.8407 - val_loss: 0.4590 - val_accuracy: 0.8372\n",
      "Epoch 8/120\n",
      "10/10 [==============================] - 0s 7ms/step - loss: 0.4507 - accuracy: 0.8407 - val_loss: 0.4512 - val_accuracy: 0.8372\n",
      "Epoch 9/120\n",
      "10/10 [==============================] - 0s 8ms/step - loss: 0.4432 - accuracy: 0.8407 - val_loss: 0.4449 - val_accuracy: 0.8372\n",
      "Epoch 10/120\n",
      "10/10 [==============================] - 0s 11ms/step - loss: 0.4373 - accuracy: 0.8407 - val_loss: 0.4409 - val_accuracy: 0.8372\n",
      "Epoch 11/120\n",
      "10/10 [==============================] - 0s 7ms/step - loss: 0.4333 - accuracy: 0.8407 - val_loss: 0.4381 - val_accuracy: 0.8372\n",
      "Epoch 12/120\n",
      "10/10 [==============================] - 0s 7ms/step - loss: 0.4304 - accuracy: 0.8407 - val_loss: 0.4360 - val_accuracy: 0.8372\n",
      "Epoch 13/120\n",
      "10/10 [==============================] - 0s 8ms/step - loss: 0.4281 - accuracy: 0.8407 - val_loss: 0.4347 - val_accuracy: 0.8372\n",
      "Epoch 14/120\n",
      "10/10 [==============================] - 0s 7ms/step - loss: 0.4266 - accuracy: 0.8407 - val_loss: 0.4335 - val_accuracy: 0.8372\n",
      "Epoch 15/120\n",
      "10/10 [==============================] - 0s 6ms/step - loss: 0.4252 - accuracy: 0.8407 - val_loss: 0.4326 - val_accuracy: 0.8372\n",
      "Epoch 16/120\n",
      "10/10 [==============================] - 0s 9ms/step - loss: 0.4240 - accuracy: 0.8407 - val_loss: 0.4319 - val_accuracy: 0.8372\n",
      "Epoch 17/120\n",
      "10/10 [==============================] - 0s 7ms/step - loss: 0.4230 - accuracy: 0.8407 - val_loss: 0.4313 - val_accuracy: 0.8372\n",
      "Epoch 18/120\n",
      "10/10 [==============================] - 0s 7ms/step - loss: 0.4221 - accuracy: 0.8407 - val_loss: 0.4308 - val_accuracy: 0.8372\n",
      "Epoch 19/120\n",
      "10/10 [==============================] - 0s 7ms/step - loss: 0.4213 - accuracy: 0.8407 - val_loss: 0.4303 - val_accuracy: 0.8372\n",
      "Epoch 20/120\n",
      "10/10 [==============================] - 0s 7ms/step - loss: 0.4205 - accuracy: 0.8407 - val_loss: 0.4299 - val_accuracy: 0.8372\n",
      "Epoch 21/120\n",
      "10/10 [==============================] - 0s 7ms/step - loss: 0.4198 - accuracy: 0.8407 - val_loss: 0.4295 - val_accuracy: 0.8372\n",
      "Epoch 22/120\n",
      "10/10 [==============================] - 0s 7ms/step - loss: 0.4191 - accuracy: 0.8407 - val_loss: 0.4290 - val_accuracy: 0.8372\n",
      "Epoch 23/120\n",
      "10/10 [==============================] - 0s 8ms/step - loss: 0.4184 - accuracy: 0.8407 - val_loss: 0.4286 - val_accuracy: 0.8372\n",
      "Epoch 24/120\n",
      "10/10 [==============================] - 0s 6ms/step - loss: 0.4178 - accuracy: 0.8407 - val_loss: 0.4282 - val_accuracy: 0.8372\n",
      "Epoch 25/120\n",
      "10/10 [==============================] - 0s 7ms/step - loss: 0.4171 - accuracy: 0.8407 - val_loss: 0.4278 - val_accuracy: 0.8372\n",
      "Epoch 26/120\n",
      "10/10 [==============================] - 0s 7ms/step - loss: 0.4164 - accuracy: 0.8407 - val_loss: 0.4274 - val_accuracy: 0.8372\n",
      "Epoch 27/120\n",
      "10/10 [==============================] - 0s 7ms/step - loss: 0.4157 - accuracy: 0.8407 - val_loss: 0.4270 - val_accuracy: 0.8372\n",
      "Epoch 28/120\n",
      "10/10 [==============================] - 0s 7ms/step - loss: 0.4151 - accuracy: 0.8407 - val_loss: 0.4266 - val_accuracy: 0.8372\n",
      "Epoch 29/120\n",
      "10/10 [==============================] - 0s 7ms/step - loss: 0.4144 - accuracy: 0.8407 - val_loss: 0.4262 - val_accuracy: 0.8372\n",
      "Epoch 30/120\n",
      "10/10 [==============================] - 0s 7ms/step - loss: 0.4138 - accuracy: 0.8407 - val_loss: 0.4259 - val_accuracy: 0.8372\n",
      "Epoch 31/120\n",
      "10/10 [==============================] - 0s 7ms/step - loss: 0.4131 - accuracy: 0.8407 - val_loss: 0.4254 - val_accuracy: 0.8372\n",
      "Epoch 32/120\n",
      "10/10 [==============================] - 0s 7ms/step - loss: 0.4125 - accuracy: 0.8407 - val_loss: 0.4250 - val_accuracy: 0.8372\n",
      "Epoch 33/120\n",
      "10/10 [==============================] - 0s 7ms/step - loss: 0.4118 - accuracy: 0.8407 - val_loss: 0.4246 - val_accuracy: 0.8372\n",
      "Epoch 34/120\n",
      "10/10 [==============================] - 0s 8ms/step - loss: 0.4112 - accuracy: 0.8407 - val_loss: 0.4242 - val_accuracy: 0.8372\n",
      "Epoch 35/120\n",
      "10/10 [==============================] - 0s 7ms/step - loss: 0.4105 - accuracy: 0.8407 - val_loss: 0.4238 - val_accuracy: 0.8372\n",
      "Epoch 36/120\n",
      "10/10 [==============================] - 0s 7ms/step - loss: 0.4099 - accuracy: 0.8407 - val_loss: 0.4234 - val_accuracy: 0.8372\n",
      "Epoch 37/120\n",
      "10/10 [==============================] - 0s 7ms/step - loss: 0.4093 - accuracy: 0.8407 - val_loss: 0.4230 - val_accuracy: 0.8372\n",
      "Epoch 38/120\n",
      "10/10 [==============================] - 0s 7ms/step - loss: 0.4086 - accuracy: 0.8407 - val_loss: 0.4226 - val_accuracy: 0.8372\n",
      "Epoch 39/120\n",
      "10/10 [==============================] - 0s 7ms/step - loss: 0.4080 - accuracy: 0.8407 - val_loss: 0.4221 - val_accuracy: 0.8372\n",
      "Epoch 40/120\n",
      "10/10 [==============================] - 0s 7ms/step - loss: 0.4073 - accuracy: 0.8407 - val_loss: 0.4218 - val_accuracy: 0.8372\n",
      "Epoch 41/120\n",
      "10/10 [==============================] - 0s 6ms/step - loss: 0.4067 - accuracy: 0.8407 - val_loss: 0.4214 - val_accuracy: 0.8372\n",
      "Epoch 42/120\n",
      "10/10 [==============================] - 0s 7ms/step - loss: 0.4060 - accuracy: 0.8407 - val_loss: 0.4210 - val_accuracy: 0.8372\n",
      "Epoch 43/120\n",
      "10/10 [==============================] - 0s 7ms/step - loss: 0.4054 - accuracy: 0.8407 - val_loss: 0.4206 - val_accuracy: 0.8372\n",
      "Epoch 44/120\n",
      "10/10 [==============================] - 0s 8ms/step - loss: 0.4047 - accuracy: 0.8407 - val_loss: 0.4202 - val_accuracy: 0.8372\n",
      "Epoch 45/120\n",
      "10/10 [==============================] - 0s 6ms/step - loss: 0.4041 - accuracy: 0.8407 - val_loss: 0.4198 - val_accuracy: 0.8372\n",
      "Epoch 46/120\n",
      "10/10 [==============================] - 0s 7ms/step - loss: 0.4034 - accuracy: 0.8407 - val_loss: 0.4194 - val_accuracy: 0.8372\n",
      "Epoch 47/120\n",
      "10/10 [==============================] - 0s 7ms/step - loss: 0.4028 - accuracy: 0.8407 - val_loss: 0.4190 - val_accuracy: 0.8372\n",
      "Epoch 48/120\n",
      "10/10 [==============================] - 0s 7ms/step - loss: 0.4021 - accuracy: 0.8407 - val_loss: 0.4186 - val_accuracy: 0.8372\n",
      "Epoch 49/120\n",
      "10/10 [==============================] - 0s 7ms/step - loss: 0.4015 - accuracy: 0.8407 - val_loss: 0.4182 - val_accuracy: 0.8372\n",
      "Epoch 50/120\n",
      "10/10 [==============================] - 0s 7ms/step - loss: 0.4008 - accuracy: 0.8407 - val_loss: 0.4179 - val_accuracy: 0.8372\n",
      "Epoch 51/120\n",
      "10/10 [==============================] - 0s 7ms/step - loss: 0.4001 - accuracy: 0.8407 - val_loss: 0.4175 - val_accuracy: 0.8372\n",
      "Epoch 52/120\n",
      "10/10 [==============================] - 0s 7ms/step - loss: 0.3995 - accuracy: 0.8407 - val_loss: 0.4171 - val_accuracy: 0.8372\n",
      "Epoch 53/120\n",
      "10/10 [==============================] - 0s 7ms/step - loss: 0.3988 - accuracy: 0.8407 - val_loss: 0.4167 - val_accuracy: 0.8372\n",
      "Epoch 54/120\n",
      "10/10 [==============================] - 0s 7ms/step - loss: 0.3982 - accuracy: 0.8407 - val_loss: 0.4163 - val_accuracy: 0.8372\n",
      "Epoch 55/120\n",
      "10/10 [==============================] - 0s 7ms/step - loss: 0.3975 - accuracy: 0.8407 - val_loss: 0.4160 - val_accuracy: 0.8372\n",
      "Epoch 56/120\n",
      "10/10 [==============================] - 0s 7ms/step - loss: 0.3969 - accuracy: 0.8407 - val_loss: 0.4156 - val_accuracy: 0.8372\n",
      "Epoch 57/120\n",
      "10/10 [==============================] - 0s 7ms/step - loss: 0.3962 - accuracy: 0.8407 - val_loss: 0.4152 - val_accuracy: 0.8372\n",
      "Epoch 58/120\n",
      "10/10 [==============================] - 0s 6ms/step - loss: 0.3955 - accuracy: 0.8407 - val_loss: 0.4148 - val_accuracy: 0.8372\n"
     ]
    },
    {
     "name": "stdout",
     "output_type": "stream",
     "text": [
      "Epoch 59/120\n",
      "10/10 [==============================] - 0s 7ms/step - loss: 0.3948 - accuracy: 0.8407 - val_loss: 0.4145 - val_accuracy: 0.8372\n",
      "Epoch 60/120\n",
      "10/10 [==============================] - 0s 7ms/step - loss: 0.3942 - accuracy: 0.8407 - val_loss: 0.4141 - val_accuracy: 0.8372\n",
      "Epoch 61/120\n",
      "10/10 [==============================] - 0s 6ms/step - loss: 0.3935 - accuracy: 0.8407 - val_loss: 0.4137 - val_accuracy: 0.8372\n",
      "Epoch 62/120\n",
      "10/10 [==============================] - 0s 7ms/step - loss: 0.3928 - accuracy: 0.8407 - val_loss: 0.4133 - val_accuracy: 0.8372\n",
      "Epoch 63/120\n",
      "10/10 [==============================] - 0s 6ms/step - loss: 0.3922 - accuracy: 0.8407 - val_loss: 0.4130 - val_accuracy: 0.8372\n",
      "Epoch 64/120\n",
      "10/10 [==============================] - 0s 6ms/step - loss: 0.3915 - accuracy: 0.8407 - val_loss: 0.4126 - val_accuracy: 0.8372\n",
      "Epoch 65/120\n",
      "10/10 [==============================] - 0s 6ms/step - loss: 0.3909 - accuracy: 0.8407 - val_loss: 0.4122 - val_accuracy: 0.8372\n",
      "Epoch 66/120\n",
      "10/10 [==============================] - 0s 6ms/step - loss: 0.3902 - accuracy: 0.8407 - val_loss: 0.4119 - val_accuracy: 0.8372\n",
      "Epoch 67/120\n",
      "10/10 [==============================] - 0s 6ms/step - loss: 0.3895 - accuracy: 0.8407 - val_loss: 0.4115 - val_accuracy: 0.8372\n",
      "Epoch 68/120\n",
      "10/10 [==============================] - 0s 7ms/step - loss: 0.3889 - accuracy: 0.8407 - val_loss: 0.4111 - val_accuracy: 0.8372\n",
      "Epoch 69/120\n",
      "10/10 [==============================] - 0s 7ms/step - loss: 0.3882 - accuracy: 0.8407 - val_loss: 0.4107 - val_accuracy: 0.8372\n",
      "Epoch 70/120\n",
      "10/10 [==============================] - 0s 7ms/step - loss: 0.3875 - accuracy: 0.8407 - val_loss: 0.4104 - val_accuracy: 0.8372\n",
      "Epoch 71/120\n",
      "10/10 [==============================] - 0s 7ms/step - loss: 0.3869 - accuracy: 0.8407 - val_loss: 0.4100 - val_accuracy: 0.8372\n",
      "Epoch 72/120\n",
      "10/10 [==============================] - 0s 7ms/step - loss: 0.3862 - accuracy: 0.8407 - val_loss: 0.4096 - val_accuracy: 0.8372\n",
      "Epoch 73/120\n",
      "10/10 [==============================] - 0s 6ms/step - loss: 0.3856 - accuracy: 0.8407 - val_loss: 0.4092 - val_accuracy: 0.8372\n",
      "Epoch 74/120\n",
      "10/10 [==============================] - 0s 6ms/step - loss: 0.3849 - accuracy: 0.8407 - val_loss: 0.4089 - val_accuracy: 0.8372\n",
      "Epoch 75/120\n",
      "10/10 [==============================] - 0s 6ms/step - loss: 0.3842 - accuracy: 0.8407 - val_loss: 0.4086 - val_accuracy: 0.8372\n",
      "Epoch 76/120\n",
      "10/10 [==============================] - 0s 7ms/step - loss: 0.3836 - accuracy: 0.8407 - val_loss: 0.4082 - val_accuracy: 0.8372\n",
      "Epoch 77/120\n",
      "10/10 [==============================] - 0s 6ms/step - loss: 0.3829 - accuracy: 0.8407 - val_loss: 0.4078 - val_accuracy: 0.8372\n",
      "Epoch 78/120\n",
      "10/10 [==============================] - 0s 6ms/step - loss: 0.3823 - accuracy: 0.8407 - val_loss: 0.4073 - val_accuracy: 0.8372\n",
      "Epoch 79/120\n",
      "10/10 [==============================] - 0s 6ms/step - loss: 0.3816 - accuracy: 0.8407 - val_loss: 0.4069 - val_accuracy: 0.8372\n",
      "Epoch 80/120\n",
      "10/10 [==============================] - 0s 6ms/step - loss: 0.3808 - accuracy: 0.8407 - val_loss: 0.4066 - val_accuracy: 0.8372\n",
      "Epoch 81/120\n",
      "10/10 [==============================] - 0s 7ms/step - loss: 0.3801 - accuracy: 0.8407 - val_loss: 0.4062 - val_accuracy: 0.8372\n",
      "Epoch 82/120\n",
      "10/10 [==============================] - 0s 6ms/step - loss: 0.3795 - accuracy: 0.8407 - val_loss: 0.4059 - val_accuracy: 0.8372\n",
      "Epoch 83/120\n",
      "10/10 [==============================] - 0s 7ms/step - loss: 0.3788 - accuracy: 0.8407 - val_loss: 0.4055 - val_accuracy: 0.8372\n",
      "Epoch 84/120\n",
      "10/10 [==============================] - 0s 6ms/step - loss: 0.3781 - accuracy: 0.8407 - val_loss: 0.4050 - val_accuracy: 0.8372\n",
      "Epoch 85/120\n",
      "10/10 [==============================] - 0s 6ms/step - loss: 0.3774 - accuracy: 0.8407 - val_loss: 0.4047 - val_accuracy: 0.8372\n",
      "Epoch 86/120\n",
      "10/10 [==============================] - 0s 7ms/step - loss: 0.3766 - accuracy: 0.8407 - val_loss: 0.4042 - val_accuracy: 0.8372\n",
      "Epoch 87/120\n",
      "10/10 [==============================] - 0s 7ms/step - loss: 0.3759 - accuracy: 0.8407 - val_loss: 0.4039 - val_accuracy: 0.8372\n",
      "Epoch 88/120\n",
      "10/10 [==============================] - 0s 6ms/step - loss: 0.3752 - accuracy: 0.8407 - val_loss: 0.4035 - val_accuracy: 0.8372\n",
      "Epoch 89/120\n",
      "10/10 [==============================] - 0s 6ms/step - loss: 0.3744 - accuracy: 0.8407 - val_loss: 0.4031 - val_accuracy: 0.8372\n",
      "Epoch 90/120\n",
      "10/10 [==============================] - 0s 6ms/step - loss: 0.3738 - accuracy: 0.8407 - val_loss: 0.4027 - val_accuracy: 0.8372\n",
      "Epoch 91/120\n",
      "10/10 [==============================] - 0s 6ms/step - loss: 0.3730 - accuracy: 0.8407 - val_loss: 0.4023 - val_accuracy: 0.8372\n",
      "Epoch 92/120\n",
      "10/10 [==============================] - 0s 6ms/step - loss: 0.3723 - accuracy: 0.8407 - val_loss: 0.4019 - val_accuracy: 0.8372\n",
      "Epoch 93/120\n",
      "10/10 [==============================] - 0s 6ms/step - loss: 0.3716 - accuracy: 0.8407 - val_loss: 0.4016 - val_accuracy: 0.8372\n",
      "Epoch 94/120\n",
      "10/10 [==============================] - 0s 7ms/step - loss: 0.3709 - accuracy: 0.8407 - val_loss: 0.4013 - val_accuracy: 0.8372\n",
      "Epoch 95/120\n",
      "10/10 [==============================] - 0s 7ms/step - loss: 0.3701 - accuracy: 0.8407 - val_loss: 0.4008 - val_accuracy: 0.8372\n",
      "Epoch 96/120\n",
      "10/10 [==============================] - 0s 7ms/step - loss: 0.3694 - accuracy: 0.8407 - val_loss: 0.4005 - val_accuracy: 0.8372\n",
      "Epoch 97/120\n",
      "10/10 [==============================] - 0s 7ms/step - loss: 0.3687 - accuracy: 0.8407 - val_loss: 0.4002 - val_accuracy: 0.8372\n",
      "Epoch 98/120\n",
      "10/10 [==============================] - 0s 7ms/step - loss: 0.3680 - accuracy: 0.8407 - val_loss: 0.3998 - val_accuracy: 0.8372\n",
      "Epoch 99/120\n",
      "10/10 [==============================] - 0s 7ms/step - loss: 0.3673 - accuracy: 0.8407 - val_loss: 0.3994 - val_accuracy: 0.8372\n",
      "Epoch 100/120\n",
      "10/10 [==============================] - 0s 6ms/step - loss: 0.3666 - accuracy: 0.8407 - val_loss: 0.3990 - val_accuracy: 0.8372\n",
      "Epoch 101/120\n",
      "10/10 [==============================] - 0s 7ms/step - loss: 0.3658 - accuracy: 0.8407 - val_loss: 0.3985 - val_accuracy: 0.8372\n",
      "Epoch 102/120\n",
      "10/10 [==============================] - 0s 7ms/step - loss: 0.3651 - accuracy: 0.8407 - val_loss: 0.3982 - val_accuracy: 0.8372\n",
      "Epoch 103/120\n",
      "10/10 [==============================] - 0s 7ms/step - loss: 0.3643 - accuracy: 0.8407 - val_loss: 0.3978 - val_accuracy: 0.8372\n",
      "Epoch 104/120\n",
      "10/10 [==============================] - 0s 7ms/step - loss: 0.3636 - accuracy: 0.8407 - val_loss: 0.3973 - val_accuracy: 0.8372\n",
      "Epoch 105/120\n",
      "10/10 [==============================] - 0s 7ms/step - loss: 0.3629 - accuracy: 0.8407 - val_loss: 0.3971 - val_accuracy: 0.8372\n",
      "Epoch 106/120\n",
      "10/10 [==============================] - 0s 7ms/step - loss: 0.3621 - accuracy: 0.8407 - val_loss: 0.3966 - val_accuracy: 0.8372\n",
      "Epoch 107/120\n",
      "10/10 [==============================] - 0s 7ms/step - loss: 0.3613 - accuracy: 0.8407 - val_loss: 0.3963 - val_accuracy: 0.8372\n",
      "Epoch 108/120\n",
      "10/10 [==============================] - 0s 7ms/step - loss: 0.3606 - accuracy: 0.8407 - val_loss: 0.3958 - val_accuracy: 0.8372\n",
      "Epoch 109/120\n",
      "10/10 [==============================] - 0s 7ms/step - loss: 0.3598 - accuracy: 0.8407 - val_loss: 0.3954 - val_accuracy: 0.8372\n",
      "Epoch 110/120\n",
      "10/10 [==============================] - 0s 6ms/step - loss: 0.3591 - accuracy: 0.8407 - val_loss: 0.3950 - val_accuracy: 0.8372\n",
      "Epoch 111/120\n",
      "10/10 [==============================] - 0s 7ms/step - loss: 0.3583 - accuracy: 0.8407 - val_loss: 0.3946 - val_accuracy: 0.8372\n",
      "Epoch 112/120\n",
      "10/10 [==============================] - 0s 7ms/step - loss: 0.3576 - accuracy: 0.8407 - val_loss: 0.3942 - val_accuracy: 0.8372\n",
      "Epoch 113/120\n",
      "10/10 [==============================] - 0s 7ms/step - loss: 0.3568 - accuracy: 0.8407 - val_loss: 0.3939 - val_accuracy: 0.8372\n",
      "Epoch 114/120\n",
      "10/10 [==============================] - 0s 7ms/step - loss: 0.3560 - accuracy: 0.8407 - val_loss: 0.3935 - val_accuracy: 0.8372\n",
      "Epoch 115/120\n",
      "10/10 [==============================] - 0s 8ms/step - loss: 0.3553 - accuracy: 0.8407 - val_loss: 0.3930 - val_accuracy: 0.8372\n",
      "Epoch 116/120\n"
     ]
    },
    {
     "name": "stdout",
     "output_type": "stream",
     "text": [
      "10/10 [==============================] - 0s 7ms/step - loss: 0.3545 - accuracy: 0.8407 - val_loss: 0.3927 - val_accuracy: 0.8372\n",
      "Epoch 117/120\n",
      "10/10 [==============================] - 0s 7ms/step - loss: 0.3537 - accuracy: 0.8407 - val_loss: 0.3922 - val_accuracy: 0.8372\n",
      "Epoch 118/120\n",
      "10/10 [==============================] - 0s 7ms/step - loss: 0.3528 - accuracy: 0.8407 - val_loss: 0.3919 - val_accuracy: 0.8372\n",
      "Epoch 119/120\n",
      "10/10 [==============================] - 0s 7ms/step - loss: 0.3521 - accuracy: 0.8407 - val_loss: 0.3915 - val_accuracy: 0.8372\n",
      "Epoch 120/120\n",
      "10/10 [==============================] - 0s 7ms/step - loss: 0.3513 - accuracy: 0.8407 - val_loss: 0.3912 - val_accuracy: 0.8372\n"
     ]
    }
   ],
   "source": [
    "history = model.fit(X_train,\n",
    "                    y_train,\n",
    "                    epochs=120,\n",
    "                    batch_size=256,\n",
    "                    validation_data=(X_val, y_val))"
   ]
  },
  {
   "cell_type": "code",
   "execution_count": 15,
   "metadata": {},
   "outputs": [
    {
     "data": {
      "image/png": "[encoded data removed]",
      "text/plain": [
       "<Figure size 432x288 with 1 Axes>"
      ]
     },
     "metadata": {
      "needs_background": "light"
     },
     "output_type": "display_data"
    }
   ],
   "source": [
    "# Plot the loss vs the number of epoch\n",
    "plt.plot(history.history['loss']);"
   ]
  },
  {
   "cell_type": "code",
   "execution_count": 16,
   "metadata": {},
   "outputs": [
    {
     "data": {
      "image/png": "[encoded data removed]",
      "text/plain": [
       "<Figure size 432x288 with 1 Axes>"
      ]
     },
     "metadata": {
      "needs_background": "light"
     },
     "output_type": "display_data"
    }
   ],
   "source": [
    "# Plot the training accuracy vs the number of epochs\n",
    "plt.plot(history.history['accuracy']);"
   ]
  },
  {
   "cell_type": "code",
   "execution_count": 17,
   "metadata": {},
   "outputs": [
    {
     "name": "stdout",
     "output_type": "stream",
     "text": [
      "76/76 [==============================] - 0s 1ms/step - loss: 0.3506 - accuracy: 0.8407\n"
     ]
    },
    {
     "data": {
      "text/plain": [
       "[0.3505896329879761, 0.8406822085380554]"
      ]
     },
     "execution_count": 17,
     "metadata": {},
     "output_type": "execute_result"
    }
   ],
   "source": [
    "# Print the loss and accuracy for the training set \n",
    "results_train = model.evaluate(X_train, y_train)\n",
    "results_train"
   ]
  },
  {
   "cell_type": "code",
   "execution_count": 18,
   "metadata": {},
   "outputs": [
    {
     "name": "stdout",
     "output_type": "stream",
     "text": [
      "19/19 [==============================] - 0s 2ms/step - loss: 0.3912 - accuracy: 0.8372\n"
     ]
    },
    {
     "data": {
      "text/plain": [
       "[0.39117908477783203, 0.8372092843055725]"
      ]
     },
     "execution_count": 18,
     "metadata": {},
     "output_type": "execute_result"
    }
   ],
   "source": [
    "# Print the loss and accuracy for the test set \n",
    "results_val = model.evaluate(X_val, y_val)\n",
    "results_val"
   ]
  },
  {
   "cell_type": "markdown",
   "metadata": {},
   "source": [
    "things to add:\n",
    "\n",
    "stopwords\n",
    "lemmetize"
   ]
  },
  {
   "cell_type": "markdown",
   "metadata": {},
   "source": [
    "tune: \n",
    "\n",
    "layers, num_words, epochs"
   ]
  },
  {
   "cell_type": "code",
   "execution_count": null,
   "metadata": {},
   "outputs": [],
   "source": [
    "pipe = Pipeline(steps=[\n",
    "    (\"scaler\", StandardScaler()),\n",
    "    (\"model\", LogisticRegression())\n",
    "])"
   ]
  },
  {
   "cell_type": "code",
   "execution_count": null,
   "metadata": {},
   "outputs": [],
   "source": []
  },
  {
   "cell_type": "code",
   "execution_count": null,
   "metadata": {},
   "outputs": [],
   "source": []
  },
  {
   "cell_type": "code",
   "execution_count": 19,
   "metadata": {},
   "outputs": [],
   "source": [
    "# REGEX code for 3+ characters:    r\"(?u)\\w{3,}\""
   ]
  },
  {
   "cell_type": "code",
   "execution_count": null,
   "metadata": {},
   "outputs": [],
   "source": []
  }
 ],
 "metadata": {
  "kernelspec": {
   "display_name": "Python (learn-env)",
   "language": "python",
   "name": "learn-env"
  },
  "language_info": {
   "codemirror_mode": {
    "name": "ipython",
    "version": 3
   },
   "file_extension": ".py",
   "mimetype": "text/x-python",
   "name": "python",
   "nbconvert_exporter": "python",
   "pygments_lexer": "ipython3",
   "version": "3.8.5"
  }
 },
 "nbformat": 4,
 "nbformat_minor": 2
}
