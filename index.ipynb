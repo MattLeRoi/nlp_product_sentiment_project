{
 "cells": [
  {
   "cell_type": "markdown",
   "metadata": {},
   "source": [
    "## Business Understanding\n",
    "A new stealth tech company is building a new product. Having failed a previous attempt at covert corporate espionage, they have hired me to gather positive public comments made on Twitter about Google and Apple products to help them understand people's favorite aspects of those products to incorporate them into their new product. The tool will flag tweets as either positive or non-positive (could be neutral or negative) for deeper analysis. The company has stated that they would like to flag as many positive tweets as possible while minimizing false positives (tweets incorrectly labeled as positive)."
   ]
  },
  {
   "cell_type": "code",
   "execution_count": 1,
   "metadata": {},
   "outputs": [
    {
     "name": "stderr",
     "output_type": "stream",
     "text": [
      "[nltk_data] Downloading package wordnet to\n",
      "[nltk_data]     C:\\Users\\mleroi\\AppData\\Roaming\\nltk_data...\n",
      "[nltk_data]   Package wordnet is already up-to-date!\n",
      "[nltk_data] Downloading package averaged_perceptron_tagger to\n",
      "[nltk_data]     C:\\Users\\mleroi\\AppData\\Roaming\\nltk_data...\n",
      "[nltk_data]   Package averaged_perceptron_tagger is already up-to-\n",
      "[nltk_data]       date!\n"
     ]
    }
   ],
   "source": [
    "import numpy as np\n",
    "import pandas as pd\n",
    "import matplotlib.pyplot as plt\n",
    "import seaborn as sns\n",
    "\n",
    "from sklearn.base import BaseEstimator, TransformerMixin\n",
    "from sklearn.pipeline import Pipeline\n",
    "from sklearn.model_selection import train_test_split\n",
    "from sklearn.utils.class_weight import compute_class_weight\n",
    "from sklearn.base import BaseEstimator, TransformerMixin\n",
    "from sklearn.metrics import accuracy_score, classification_report, confusion_matrix, f1_score, precision_score\n",
    "from sklearn.feature_extraction.text import TfidfVectorizer\n",
    "from sklearn.linear_model import LogisticRegression\n",
    "\n",
    "from tensorflow.keras.preprocessing.text import Tokenizer\n",
    "from tensorflow.keras.models import Sequential\n",
    "from tensorflow.keras.layers import Dense\n",
    "from tensorflow.keras.callbacks import EarlyStopping\n",
    "from scikeras.wrappers import KerasClassifier\n",
    "from keras import metrics\n",
    "import tensorflow as tf\n",
    "from tensorflow.keras import backend as K\n",
    "\n",
    "from nltk.corpus import stopwords\n",
    "from nltk.corpus import stopwords, wordnet\n",
    "from nltk.stem import WordNetLemmatizer\n",
    "from nltk import pos_tag, word_tokenize\n",
    "import nltk\n",
    "nltk.download(\"wordnet\")\n",
    "nltk.download(\"averaged_perceptron_tagger\")\n",
    "\n",
    "import warnings\n",
    "warnings.filterwarnings(\"ignore\")"
   ]
  },
  {
   "cell_type": "markdown",
   "metadata": {},
   "source": [
    "# Data Understanding"
   ]
  },
  {
   "cell_type": "markdown",
   "metadata": {},
   "source": [
    "The csv file has ~9000 tweets, each labeled by a human as positive, neutral, or negative. ~1/3 are positive and ~2/3 are either neutral or negative. The accuracy of these labels is limited by the judgement of the humans who labeled the list, as well as the vagaries of emotion generally. Also, this data's applicability to current technology and language/slang may be limited by the fact that it is now over 10 years old."
   ]
  },
  {
   "cell_type": "code",
   "execution_count": 2,
   "metadata": {
    "scrolled": true
   },
   "outputs": [
    {
     "name": "stdout",
     "output_type": "stream",
     "text": [
      "<class 'pandas.core.frame.DataFrame'>\n",
      "RangeIndex: 9093 entries, 0 to 9092\n",
      "Data columns (total 3 columns):\n",
      " #   Column                                              Non-Null Count  Dtype \n",
      "---  ------                                              --------------  ----- \n",
      " 0   tweet_text                                          9092 non-null   object\n",
      " 1   emotion_in_tweet_is_directed_at                     3291 non-null   object\n",
      " 2   is_there_an_emotion_directed_at_a_brand_or_product  9093 non-null   object\n",
      "dtypes: object(3)\n",
      "memory usage: 213.2+ KB\n"
     ]
    }
   ],
   "source": [
    "# Read the csv file and display basic info\n",
    "df = pd.read_csv('judge-1377884607_tweet_product_company.csv', encoding='latin1')\n",
    "df.info()"
   ]
  },
  {
   "cell_type": "code",
   "execution_count": 3,
   "metadata": {},
   "outputs": [
    {
     "data": {
      "text/html": [
       "<div>\n",
       "<style scoped>\n",
       "    .dataframe tbody tr th:only-of-type {\n",
       "        vertical-align: middle;\n",
       "    }\n",
       "\n",
       "    .dataframe tbody tr th {\n",
       "        vertical-align: top;\n",
       "    }\n",
       "\n",
       "    .dataframe thead th {\n",
       "        text-align: right;\n",
       "    }\n",
       "</style>\n",
       "<table border=\"1\" class=\"dataframe\">\n",
       "  <thead>\n",
       "    <tr style=\"text-align: right;\">\n",
       "      <th></th>\n",
       "      <th>tweet_text</th>\n",
       "      <th>emotion_in_tweet_is_directed_at</th>\n",
       "      <th>is_there_an_emotion_directed_at_a_brand_or_product</th>\n",
       "    </tr>\n",
       "  </thead>\n",
       "  <tbody>\n",
       "    <tr>\n",
       "      <th>0</th>\n",
       "      <td>.@wesley83 I have a 3G iPhone. After 3 hrs twe...</td>\n",
       "      <td>iPhone</td>\n",
       "      <td>Negative emotion</td>\n",
       "    </tr>\n",
       "    <tr>\n",
       "      <th>1</th>\n",
       "      <td>@jessedee Know about @fludapp ? Awesome iPad/i...</td>\n",
       "      <td>iPad or iPhone App</td>\n",
       "      <td>Positive emotion</td>\n",
       "    </tr>\n",
       "    <tr>\n",
       "      <th>2</th>\n",
       "      <td>@swonderlin Can not wait for #iPad 2 also. The...</td>\n",
       "      <td>iPad</td>\n",
       "      <td>Positive emotion</td>\n",
       "    </tr>\n",
       "    <tr>\n",
       "      <th>3</th>\n",
       "      <td>@sxsw I hope this year's festival isn't as cra...</td>\n",
       "      <td>iPad or iPhone App</td>\n",
       "      <td>Negative emotion</td>\n",
       "    </tr>\n",
       "    <tr>\n",
       "      <th>4</th>\n",
       "      <td>@sxtxstate great stuff on Fri #SXSW: Marissa M...</td>\n",
       "      <td>Google</td>\n",
       "      <td>Positive emotion</td>\n",
       "    </tr>\n",
       "  </tbody>\n",
       "</table>\n",
       "</div>"
      ],
      "text/plain": [
       "                                          tweet_text  \\\n",
       "0  .@wesley83 I have a 3G iPhone. After 3 hrs twe...   \n",
       "1  @jessedee Know about @fludapp ? Awesome iPad/i...   \n",
       "2  @swonderlin Can not wait for #iPad 2 also. The...   \n",
       "3  @sxsw I hope this year's festival isn't as cra...   \n",
       "4  @sxtxstate great stuff on Fri #SXSW: Marissa M...   \n",
       "\n",
       "  emotion_in_tweet_is_directed_at  \\\n",
       "0                          iPhone   \n",
       "1              iPad or iPhone App   \n",
       "2                            iPad   \n",
       "3              iPad or iPhone App   \n",
       "4                          Google   \n",
       "\n",
       "  is_there_an_emotion_directed_at_a_brand_or_product  \n",
       "0                                   Negative emotion  \n",
       "1                                   Positive emotion  \n",
       "2                                   Positive emotion  \n",
       "3                                   Negative emotion  \n",
       "4                                   Positive emotion  "
      ]
     },
     "execution_count": 3,
     "metadata": {},
     "output_type": "execute_result"
    }
   ],
   "source": [
    "df.head()"
   ]
  },
  {
   "cell_type": "markdown",
   "metadata": {},
   "source": [
    "# Data Preparation"
   ]
  },
  {
   "cell_type": "code",
   "execution_count": 4,
   "metadata": {},
   "outputs": [],
   "source": [
    "# Remove na's and duplicates\n",
    "df.dropna(subset=['tweet_text'], inplace=True)\n",
    "df.drop_duplicates(subset=['tweet_text'], inplace=True)"
   ]
  },
  {
   "cell_type": "code",
   "execution_count": 5,
   "metadata": {},
   "outputs": [],
   "source": [
    "# Remove tweets that humans were unable to identify and create a flag for positive tweets\n",
    "neg_neut_combine = df[df['is_there_an_emotion_directed_at_a_brand_or_product'] != \"I can't tell\"]\n",
    "neg_neut_combine['pos_flag'] = 0\n",
    "neg_neut_combine.loc[df['is_there_an_emotion_directed_at_a_brand_or_product'] == 'Positive emotion', 'pos_flag'] = 1"
   ]
  },
  {
   "cell_type": "code",
   "execution_count": 6,
   "metadata": {
    "scrolled": true
   },
   "outputs": [
    {
     "data": {
      "image/png": "[encoded data removed]",
      "text/plain": [
       "<Figure size 432x288 with 1 Axes>"
      ]
     },
     "metadata": {
      "needs_background": "light"
     },
     "output_type": "display_data"
    }
   ],
   "source": [
    "categories = ['No emotion', 'Positive', 'Negative']\n",
    "total_emo_counts = neg_neut_combine['is_there_an_emotion_directed_at_a_brand_or_product'].value_counts()\n",
    "\n",
    "plt.bar(categories, total_emo_counts)\n",
    "plt.ylabel('Count')\n",
    "plt.title('Emotion Counts')\n",
    "plt.show()"
   ]
  },
  {
   "cell_type": "code",
   "execution_count": 7,
   "metadata": {},
   "outputs": [
    {
     "data": {
      "image/png": "[encoded data removed]",
      "text/plain": [
       "<Figure size 432x288 with 1 Axes>"
      ]
     },
     "metadata": {
      "needs_background": "light"
     },
     "output_type": "display_data"
    }
   ],
   "source": [
    "categories = ['No emotion / Negative', 'Positive']\n",
    "neg_neut_emo_counts = neg_neut_combine['pos_flag'].value_counts()\n",
    "\n",
    "plt.bar(categories, neg_neut_emo_counts)\n",
    "plt.ylabel('Count')\n",
    "plt.title('Emotion Counts')\n",
    "plt.show()"
   ]
  },
  {
   "cell_type": "code",
   "execution_count": 8,
   "metadata": {},
   "outputs": [],
   "source": [
    "# Create variables for X and y, to be split later\n",
    "neg_neut_combine_tweets = neg_neut_combine['tweet_text'].copy()\n",
    "neg_neut_combine_sentiment = neg_neut_combine['pos_flag'].copy()"
   ]
  },
  {
   "cell_type": "code",
   "execution_count": 9,
   "metadata": {},
   "outputs": [],
   "source": [
    "# Split off test data to be used for final evaluation\n",
    "X_train, X_test, y_train, y_test = train_test_split(neg_neut_combine_tweets,neg_neut_combine_sentiment, \n",
    "                                                    test_size=0.15, \n",
    "                                                    random_state=42, \n",
    "                                                    stratify=neg_neut_combine_sentiment)"
   ]
  },
  {
   "cell_type": "code",
   "execution_count": 10,
   "metadata": {},
   "outputs": [],
   "source": [
    "# I use a function in the sequential model later that automatically uses the last 20% of \n",
    "# the entries for validation. I am manually splitting the training and validation data the same way \n",
    "# here for consistency. I verified that there is no significant difference in the proportion of positive \n",
    "# tweets between the training and validation sets.\n",
    "\n",
    "X_train_baseline = X_train[:int(len(X_train) * 0.8)]\n",
    "y_train_baseline = y_train[:int(len(y_train) * 0.8)]\n",
    "X_val_baseline = X_train[-int(len(X_train) * 0.2):]\n",
    "y_val_baseline = y_train[-int(len(y_train) * 0.2):]"
   ]
  },
  {
   "cell_type": "markdown",
   "metadata": {},
   "source": [
    "# Modeling"
   ]
  },
  {
   "cell_type": "markdown",
   "metadata": {},
   "source": [
    "### Baseline Model"
   ]
  },
  {
   "cell_type": "markdown",
   "metadata": {},
   "source": [
    "I chose to use a TF-IDF vectorizer and logistic regression model as a straightforward first baseline model."
   ]
  },
  {
   "cell_type": "code",
   "execution_count": 11,
   "metadata": {},
   "outputs": [
    {
     "name": "stdout",
     "output_type": "stream",
     "text": [
      "Top words for positive class: ['cool' 'great' 'ipad' 'good' 'love' 'wow' 'awesome' 'nice' 'excited'\n",
      " 'fun']\n"
     ]
    }
   ],
   "source": [
    "# Create a pipeline\n",
    "clf = Pipeline([\n",
    "    ('tfidf', TfidfVectorizer(max_features=5000)),\n",
    "    ('lr', LogisticRegression(max_iter=1000))\n",
    "])\n",
    "\n",
    "# Train\n",
    "clf.fit(X_train_baseline, y_train_baseline)\n",
    "\n",
    "# List most positive words\n",
    "vectorizer = clf.named_steps[\"tfidf\"]\n",
    "classifier = clf.named_steps[\"lr\"]\n",
    "\n",
    "feature_names = vectorizer.get_feature_names_out()\n",
    "coef = classifier.coef_[0]\n",
    "top_pos_idx = coef.argsort()[-10:][::-1]\n",
    "print(\"Top words for positive class:\", feature_names[top_pos_idx])\n",
    "\n",
    "# top_neg_idx = coef.argsort()[:10]\n",
    "# print(\"Top words for negative/neutral class:\", feature_names[top_neg_idx])"
   ]
  },
  {
   "cell_type": "code",
   "execution_count": 12,
   "metadata": {},
   "outputs": [
    {
     "name": "stdout",
     "output_type": "stream",
     "text": [
      "0.6466100474178859\n"
     ]
    }
   ],
   "source": [
    "# Get the F1 score from the validation set\n",
    "ave_type = 'macro'\n",
    "y_pred_val_base = clf.predict(X_val_baseline)\n",
    "baseline_f1 = f1_score(y_val_baseline, y_pred_val_base, average=ave_type)\n",
    "baseline_accuracy = accuracy_score(y_val_baseline, y_pred_val_base)\n",
    "print(baseline_f1)"
   ]
  },
  {
   "cell_type": "code",
   "execution_count": 13,
   "metadata": {
    "scrolled": true
   },
   "outputs": [
    {
     "data": {
      "image/png": "[encoded data removed]",
      "text/plain": [
       "<Figure size 432x288 with 1 Axes>"
      ]
     },
     "metadata": {
      "needs_background": "light"
     },
     "output_type": "display_data"
    }
   ],
   "source": [
    "# Calculate comparison score based on always guessing majority class (negative/neutral)\n",
    "y_pred2 = [0]*len(y_val_baseline)\n",
    "majority_guess_f1 = f1_score(y_val_baseline, y_pred2, average=ave_type)\n",
    "majority_guess_acc = accuracy_score(y_val_baseline, y_pred2)\n",
    "\n",
    "categories = ['Always Guess Negative/Neutral', 'Logistic Regression Model']\n",
    "f1s = [majority_guess_f1,baseline_f1]\n",
    "\n",
    "plt.bar(categories, f1s)\n",
    "plt.ylim(0, 0.8)\n",
    "plt.ylabel('F1 score')\n",
    "plt.title('F1 Scores')\n",
    "for i, count in enumerate(f1s):\n",
    "    plt.text(i, count+.02, str(round(count,3)), ha='center')\n",
    "plt.show()"
   ]
  },
  {
   "cell_type": "markdown",
   "metadata": {},
   "source": [
    "### Sequential Neural Network Model"
   ]
  },
  {
   "cell_type": "markdown",
   "metadata": {},
   "source": [
    "This model was built to allow it to be called with multiple parameters specified and to be used for either a binary or multi-class classification, in case it was necessary to separate positive, neutral, and negative tweets. The run_pipe function takes in training data and parameters, then creates the pipeline, preps the data, trains the model, and returns the results."
   ]
  },
  {
   "cell_type": "code",
   "execution_count": 14,
   "metadata": {},
   "outputs": [],
   "source": [
    "def run_pipe(X,y, num_words=2000, \n",
    "             remove_stopwords=False, \n",
    "             lemmatize=False, \n",
    "             num_epochs=200, \n",
    "             show_results=False, \n",
    "             balance_classes=False):\n",
    "\n",
    "# Compute weights to combat data imbalance, if necessary\n",
    "    classes = np.unique(y)\n",
    "    class_weights = [1]*len(classes)\n",
    "    if balance_classes:\n",
    "        class_weights = compute_class_weight(\n",
    "            class_weight=\"balanced\",\n",
    "            classes=classes,\n",
    "            y=y)\n",
    "    class_weights = dict(zip(classes,class_weights))\n",
    "\n",
    "# Text prep transformer\n",
    "\n",
    "    class TextPrep(BaseEstimator, TransformerMixin):\n",
    "        def __init__(self):\n",
    "            self.remove_stopwords = remove_stopwords\n",
    "            self.lemmatize = lemmatize\n",
    "            self.stop_words = set(stopwords.words(\"english\"))\n",
    "            self.lemmatizer = WordNetLemmatizer()\n",
    "\n",
    "    # Map POS tag to WordNet format to help with lemmatization\n",
    "        def get_wordnet_pos(self, treebank_tag):\n",
    "            if treebank_tag.startswith(\"J\"):\n",
    "                return wordnet.ADJ\n",
    "            elif treebank_tag.startswith(\"V\"):\n",
    "                return wordnet.VERB\n",
    "            elif treebank_tag.startswith(\"N\"):\n",
    "                return wordnet.NOUN\n",
    "            elif treebank_tag.startswith(\"R\"):\n",
    "                return wordnet.ADV\n",
    "            else:\n",
    "                return wordnet.NOUN\n",
    "\n",
    "        def fit(self, X, y=None):\n",
    "            return self\n",
    "\n",
    "        def transform(self, X):\n",
    "            if isinstance(X, np.ndarray):\n",
    "                X = X.ravel()\n",
    "            X = [str(x) for x in X]\n",
    "\n",
    "            processed = []\n",
    "            for text in X:\n",
    "                words = word_tokenize(text)\n",
    "\n",
    "                # Remove stopwords, if desired\n",
    "                if self.remove_stopwords:\n",
    "                    words = [w for w in words if w.lower() not in self.stop_words]\n",
    "\n",
    "                # Lemmatize, if desired\n",
    "                if self.lemmatize:\n",
    "                    pos_tags = pos_tag(words)\n",
    "                    words = [self.lemmatizer.lemmatize(w, self.get_wordnet_pos(tag)) \n",
    "                             for w, tag in pos_tags]\n",
    "                processed.append(\" \".join(words))\n",
    "            return processed        \n",
    "\n",
    "    class KerasTokenizer(BaseEstimator, TransformerMixin):\n",
    "        def __init__(self, mode=\"binary\"):\n",
    "            self.num_words = num_words\n",
    "            self.mode = mode\n",
    "            self.tokenizer = Tokenizer(num_words=self.num_words)\n",
    "\n",
    "        def fit(self, X, y=None):\n",
    "            self.tokenizer.fit_on_texts(X)\n",
    "            return self\n",
    "\n",
    "        def transform(self, X):\n",
    "            return self.tokenizer.texts_to_matrix(X, mode=self.mode)    \n",
    "      \n",
    " # Build sequential model\n",
    "\n",
    "    def build_model(input_dim, n_classes):\n",
    "        model = Sequential()\n",
    "        model.add(Dense(50, activation=\"relu\", input_shape=(input_dim,)))\n",
    "        model.add(Dense(25, activation=\"relu\"))\n",
    "        model.add(Dense(n_classes, activation=\"softmax\"))\n",
    "        model.compile(\n",
    "            optimizer=\"adam\",\n",
    "            loss=\"sparse_categorical_crossentropy\",\n",
    "            metrics=['accuracy'],\n",
    "            weighted_metrics=[]\n",
    "        )\n",
    "        return model\n",
    "\n",
    "# Create pipeline\n",
    "\n",
    "    n_classes = len(np.unique(y))\n",
    "\n",
    "    pipeline = Pipeline([\n",
    "        (\"prep\", TextPrep()),\n",
    "        (\"tok\", KerasTokenizer()),\n",
    "        (\"clf\", KerasClassifier(\n",
    "            build_fn=lambda: build_model(\n",
    "                input_dim=pipeline.named_steps[\"tok\"].num_words, \n",
    "                n_classes=n_classes),\n",
    "            epochs=num_epochs,\n",
    "            batch_size=256,\n",
    "            verbose=0,\n",
    "            validation_split=0.2, \n",
    "            callbacks=[EarlyStopping(monitor=\"val_accuracy\", patience=8, restore_best_weights=True)],\n",
    "            class_weight=class_weights))\n",
    "    ])\n",
    "    \n",
    "# Fit\n",
    "    pipeline.fit(X, y)\n",
    "\n",
    "# Test results\n",
    "    pipe_history = pipeline.named_steps[\"clf\"].history_\n",
    "    X_val = X[-int(len(X) * 0.2):]\n",
    "    y_val = y[-int(len(y) * 0.2):]\n",
    "    y_pred = pipeline.predict(X_val)\n",
    "    pipe_f1 = f1_score(y_val, y_pred, average=ave_type)\n",
    "    \n",
    "   # Print more detailed results and extra plots if desired\n",
    "    if show_results:\n",
    "        print(confusion_matrix(y_val, y_pred))\n",
    "        print(\"Max Val Accuracy:\", max(pipe_history[\"val_accuracy\"]))\n",
    "        print(\"F1 score: \", pipe_f1)\n",
    "        plt.figure(figsize=(8,5))\n",
    "        plt.plot(pipe_history[\"accuracy\"], label=\"Train Accuracy\")\n",
    "        if \"val_accuracy\" in pipe_history:\n",
    "            plt.plot(pipe_history[\"val_accuracy\"], label=\"Validation Accuracy\")\n",
    "        plt.title(\"Epoch vs Accuracy\")\n",
    "        plt.xlabel(\"Epoch\")\n",
    "        plt.ylabel(\"Accuracy\")\n",
    "        plt.legend()\n",
    "        plt.show()\n",
    "    \n",
    "    return max(pipe_history[\"val_accuracy\"]), pipe_f1, pipeline;"
   ]
  },
  {
   "cell_type": "markdown",
   "metadata": {},
   "source": [
    "This function gets the most predictive words for each class. It returns the words and their weights."
   ]
  },
  {
   "cell_type": "code",
   "execution_count": 15,
   "metadata": {},
   "outputs": [],
   "source": [
    "def get_top_words_by_model_weights(pipeline, top_n=10):\n",
    "\n",
    "    tok = pipeline.named_steps[\"tok\"].tokenizer\n",
    "    vocab_size = tok.num_words\n",
    "    word_index = tok.word_index\n",
    "    inv_word_index = {v: k for k, v in word_index.items() if v < vocab_size}\n",
    "\n",
    "    model = pipeline.named_steps[\"clf\"].model_\n",
    "    first_dense = model.layers[0]\n",
    "    second_dense = model.layers[1]\n",
    "    final_dense = model.layers[-1]\n",
    "    \n",
    "    # Get weights for each layer\n",
    "    W1, b1 = first_dense.get_weights()\n",
    "    W2, b2 = second_dense.get_weights()\n",
    "    W3, b3 = final_dense.get_weights()\n",
    "    \n",
    "    # Calculate combined weights\n",
    "    combined_weights = W1 @ W2 @ W3\n",
    "\n",
    "    top_words = {}\n",
    "    for class_idx in range(combined_weights.shape[1]):\n",
    "        class_contrib = combined_weights[:, class_idx]\n",
    "        top_indices = np.argsort(class_contrib)[-top_n:][::-1]\n",
    "\n",
    "        top_words[class_idx] = [\n",
    "            (inv_word_index.get(i, f\"<UNK_{i}>\"), class_contrib[i])\n",
    "            for i in top_indices]\n",
    "\n",
    "    return top_words"
   ]
  },
  {
   "cell_type": "markdown",
   "metadata": {},
   "source": [
    "This function calls the run_pipe function multiple times with different parameters and stores the results. Creating my own function, rather than using GridSearchCV, allowed me to customize the inputs, outputs, and displays (prints and plots) throughout the process."
   ]
  },
  {
   "cell_type": "code",
   "execution_count": 16,
   "metadata": {},
   "outputs": [],
   "source": [
    "def parameter_check (X_par, y_par, num_words_list, plot=True, balance_classes=False, show_results=False):\n",
    "    \n",
    "    results=pd.DataFrame(columns=[\"number_of_words\",\"val_accuracy\", 'remove_stopwords', 'lemmatize', 'f1'])\n",
    "    i=1\n",
    "    stop_tf=False\n",
    "    lem_tf=False\n",
    "    best_f1 = 0\n",
    "    \n",
    "# This will run once per parameter combination by default. To loop on j to run multiple times and average the results,\n",
    "# uncomment the line: \"for j in range(3):\", then indent the block between the lines.\n",
    "\n",
    "#     for j in range(3):\n",
    "\n",
    "#--------------------------------------------------------------------#\n",
    "    for x in num_words_list:\n",
    "        for stop_tf in [False,True]:\n",
    "            for lem_tf in [False,True]:\n",
    "                acc, f1, model=run_pipe(X_par,y_par, \n",
    "                                 num_words=x,\n",
    "                                 remove_stopwords=stop_tf, \n",
    "                                 lemmatize=lem_tf, \n",
    "                                 balance_classes=balance_classes, \n",
    "                                 show_results=show_results)\n",
    "                if f1>best_f1:\n",
    "                    best_f1=f1\n",
    "                    best_model=model\n",
    "                \n",
    "                print(f'({i} of {len(num_words_list)*4}) Stopwords: {stop_tf}, Lemmatize: {lem_tf}, Number of words: {x}, Val accuracy: {round(acc,4)}, F1 score: {round(f1,4)}')\n",
    "                new_row_data = {'number_of_words': [x], 'val_accuracy': [acc], 'remove_stopwords': [stop_tf], 'lemmatize': [lem_tf], 'f1': [f1]}\n",
    "                new_row = pd.DataFrame(new_row_data)\n",
    "                results = pd.concat([results,new_row], ignore_index=True)\n",
    "                i += 1\n",
    "    results[\"config\"] = results.apply(\n",
    "        lambda row: f\"Stopwords={row['remove_stopwords']}, Lemmatize={row['lemmatize']}\", axis=1)\n",
    "#--------------------------------------------------------------------#\n",
    "\n",
    "    for num_word in num_words_list:\n",
    "        baseline_row_data = {'number_of_words': [num_word], 'val_accuracy': [baseline_accuracy], 'f1': [baseline_f1], 'config': 'Baseline Linear Regression Model'}\n",
    "        baseline_rows = pd.DataFrame(baseline_row_data)\n",
    "        results = pd.concat([results,baseline_rows], ignore_index=True)\n",
    "    results = results.sort_values(\"number_of_words\")\n",
    "\n",
    "    if plot:\n",
    "        avg_data = results.groupby([\"number_of_words\", \"config\"], as_index=False)[\"f1\"].mean()        \n",
    "        fig, ax2 = plt.subplots(figsize=(10,6))\n",
    "        sns.lineplot(\n",
    "            data=avg_data,\n",
    "            x=\"number_of_words\",\n",
    "            y=\"f1\",\n",
    "            hue=\"config\",\n",
    "            style=\"config\",\n",
    "            ax=ax2,\n",
    "            markers=True,\n",
    "            dashes=True)\n",
    "        plt.title(\"Validation F1 Score vs Number of Words\", fontsize=14)\n",
    "        plt.xlabel(\"Number of Words\", fontsize=12)\n",
    "        plt.ylabel(\"Validation F1 Score\", fontsize=12)\n",
    "        plt.legend(title=\"Preprocessing Config\")\n",
    "        plt.grid(True, alpha=0.3)\n",
    "        plt.show()\n",
    "        \n",
    "    return results, best_model"
   ]
  },
  {
   "cell_type": "code",
   "execution_count": 17,
   "metadata": {
    "scrolled": false
   },
   "outputs": [
    {
     "name": "stdout",
     "output_type": "stream",
     "text": [
      "(1 of 4) Stopwords: False, Lemmatize: False, Number of words: 300, Val accuracy: 0.7221, F1 score: 0.6657\n",
      "(2 of 4) Stopwords: False, Lemmatize: True, Number of words: 300, Val accuracy: 0.7234, F1 score: 0.629\n",
      "(3 of 4) Stopwords: True, Lemmatize: False, Number of words: 300, Val accuracy: 0.7254, F1 score: 0.6612\n",
      "(4 of 4) Stopwords: True, Lemmatize: True, Number of words: 300, Val accuracy: 0.7162, F1 score: 0.6399\n"
     ]
    },
    {
     "data": {
      "image/png": "[encoded data removed]",
      "text/plain": [
       "<Figure size 720x432 with 1 Axes>"
      ]
     },
     "metadata": {
      "needs_background": "light"
     },
     "output_type": "display_data"
    }
   ],
   "source": [
    "num_words_list = [300]\n",
    "unweighted_results, unweighted_model = parameter_check(X_train,y_train, num_words_list, show_results=False)"
   ]
  },
  {
   "cell_type": "code",
   "execution_count": 18,
   "metadata": {},
   "outputs": [
    {
     "data": {
      "text/plain": [
       "0.6387094934439942"
      ]
     },
     "execution_count": 18,
     "metadata": {},
     "output_type": "execute_result"
    }
   ],
   "source": [
    "uw_pred = unweighted_model.predict(X_test)\n",
    "f1_score(y_test, uw_pred, average=ave_type)"
   ]
  },
  {
   "cell_type": "code",
   "execution_count": 19,
   "metadata": {},
   "outputs": [
    {
     "name": "stdout",
     "output_type": "stream",
     "text": [
      "\n",
      "Top words for class 0:\n",
      "he              (4.05)\n",
      "relief          (4.04)\n",
      "because         (3.37)\n",
      "rumor           (2.87)\n",
      "many            (2.78)\n",
      "12              (2.74)\n",
      "yet             (2.70)\n",
      "launching       (2.46)\n",
      "says            (2.44)\n",
      "11              (2.39)\n",
      "\n",
      "Top words for class 1:\n",
      "nice            (3.57)\n",
      "great           (3.42)\n",
      "fun             (2.80)\n",
      "ipad            (2.65)\n",
      "good            (2.61)\n",
      "better          (2.39)\n",
      "awesome         (2.33)\n",
      "yes             (2.23)\n",
      "love            (2.08)\n",
      "available       (2.01)\n"
     ]
    }
   ],
   "source": [
    "top_words = get_top_words_by_model_weights(unweighted_model, top_n=10)\n",
    "\n",
    "for cls, words in top_words.items():\n",
    "    print(f\"\\nTop words for class {cls}:\")\n",
    "    for word, weight in words:\n",
    "        print(f\"{word:15s} ({weight:.2f})\")"
   ]
  },
  {
   "cell_type": "code",
   "execution_count": 20,
   "metadata": {},
   "outputs": [
    {
     "data": {
      "image/png": "[encoded data removed]",
      "text/plain": [
       "<Figure size 720x432 with 1 Axes>"
      ]
     },
     "metadata": {
      "needs_background": "light"
     },
     "output_type": "display_data"
    },
    {
     "name": "stdout",
     "output_type": "stream",
     "text": [
      "Highest F1 score: 0.666\n"
     ]
    }
   ],
   "source": [
    "avg_data = unweighted_results.groupby([\"number_of_words\", \"config\"], as_index=False)[\"f1\"].mean()        \n",
    "\n",
    "fig, ax2 = plt.subplots(figsize=(10,6))\n",
    "\n",
    "sns.lineplot(\n",
    "    data=avg_data,\n",
    "    x=\"number_of_words\",\n",
    "    y=\"f1\",\n",
    "    hue=\"config\",\n",
    "    style=\"config\",\n",
    "    ax=ax2,\n",
    "    markers=True,\n",
    "    dashes=True)\n",
    "plt.title(\"Validation F1 Score vs Number of Words\", fontsize=14)\n",
    "plt.xlabel(\"Number of Words\", fontsize=12)\n",
    "plt.ylabel(\"Validation F1 Score\", fontsize=12)\n",
    "plt.legend(title=\"Preprocessing Config\")\n",
    "plt.grid(True, alpha=0.3)\n",
    "plt.show()\n",
    "print(f\"\"\"Highest F1 score: {round(avg_data['f1'].max(),3)}\"\"\")"
   ]
  },
  {
   "cell_type": "code",
   "execution_count": 21,
   "metadata": {
    "scrolled": false
   },
   "outputs": [
    {
     "name": "stdout",
     "output_type": "stream",
     "text": [
      "(1 of 4) Stopwords: False, Lemmatize: False, Number of words: 300, Val accuracy: 0.695, F1 score: 0.665\n",
      "(2 of 4) Stopwords: False, Lemmatize: True, Number of words: 300, Val accuracy: 0.6891, F1 score: 0.6606\n",
      "(3 of 4) Stopwords: True, Lemmatize: False, Number of words: 300, Val accuracy: 0.7201, F1 score: 0.6866\n",
      "(4 of 4) Stopwords: True, Lemmatize: True, Number of words: 300, Val accuracy: 0.701, F1 score: 0.6693\n"
     ]
    },
    {
     "data": {
      "image/png": "[encoded data removed]",
      "text/plain": [
       "<Figure size 720x432 with 1 Axes>"
      ]
     },
     "metadata": {
      "needs_background": "light"
     },
     "output_type": "display_data"
    }
   ],
   "source": [
    "num_words_list = [300]\n",
    "weighted_results, weighted_model = parameter_check(X_train,y_train, num_words_list, balance_classes=True, show_results=False)"
   ]
  },
  {
   "cell_type": "code",
   "execution_count": 22,
   "metadata": {},
   "outputs": [
    {
     "name": "stdout",
     "output_type": "stream",
     "text": [
      "\n",
      "Top words for class 0:\n",
      "money           (2.21)\n",
      "codes           (2.11)\n",
      "00              (1.87)\n",
      "12              (1.67)\n",
      "something       (1.52)\n",
      "11              (1.50)\n",
      "anyone          (1.49)\n",
      "please          (1.49)\n",
      "twitter         (1.48)\n",
      "30              (1.48)\n",
      "\n",
      "Top words for class 1:\n",
      "awesome         (2.01)\n",
      "good            (1.91)\n",
      "cool            (1.91)\n",
      "amazing         (1.85)\n",
      "smart           (1.77)\n",
      "wow             (1.77)\n",
      "must            (1.69)\n",
      "great           (1.64)\n",
      "nice            (1.48)\n",
      "fun             (1.45)\n"
     ]
    }
   ],
   "source": [
    "top_words = get_top_words_by_model_weights(weighted_model, top_n=10)\n",
    "\n",
    "for cls, words in top_words.items():\n",
    "    print(f\"\\nTop words for class {cls}:\")\n",
    "    for word, weight in words:\n",
    "        print(f\"{word:15s} ({weight:.2f})\")"
   ]
  },
  {
   "cell_type": "markdown",
   "metadata": {},
   "source": [
    "# Evaluation"
   ]
  },
  {
   "cell_type": "code",
   "execution_count": 24,
   "metadata": {},
   "outputs": [
    {
     "data": {
      "text/plain": [
       "0.6462066642467155"
      ]
     },
     "execution_count": 24,
     "metadata": {},
     "output_type": "execute_result"
    }
   ],
   "source": [
    "weight_pred = weighted_model.predict(X_test)\n",
    "f1_score(y_test, weight_pred, average=ave_type)"
   ]
  },
  {
   "cell_type": "code",
   "execution_count": 25,
   "metadata": {
    "scrolled": true
   },
   "outputs": [
    {
     "data": {
      "text/plain": [
       "array([[669, 223],\n",
       "       [202, 243]], dtype=int64)"
      ]
     },
     "execution_count": 25,
     "metadata": {},
     "output_type": "execute_result"
    }
   ],
   "source": [
    "confusion_matrix(y_test, weight_pred)"
   ]
  },
  {
   "cell_type": "code",
   "execution_count": 26,
   "metadata": {},
   "outputs": [
    {
     "data": {
      "text/plain": [
       "0    892\n",
       "1    445\n",
       "Name: pos_flag, dtype: int64"
      ]
     },
     "execution_count": 26,
     "metadata": {},
     "output_type": "execute_result"
    }
   ],
   "source": [
    "y_test.value_counts()"
   ]
  },
  {
   "cell_type": "code",
   "execution_count": 27,
   "metadata": {},
   "outputs": [
    {
     "name": "stdout",
     "output_type": "stream",
     "text": [
      "1.8312757201646088\n"
     ]
    }
   ],
   "source": [
    "print(f'{1/precision_score(weight_pred, y_test)}')"
   ]
  },
  {
   "cell_type": "code",
   "execution_count": 28,
   "metadata": {},
   "outputs": [
    {
     "data": {
      "text/plain": [
       "3.004494382022472"
      ]
     },
     "execution_count": 28,
     "metadata": {},
     "output_type": "execute_result"
    }
   ],
   "source": [
    "(445+892)/445"
   ]
  },
  {
   "cell_type": "code",
   "execution_count": 29,
   "metadata": {},
   "outputs": [
    {
     "data": {
      "text/plain": [
       "1.6111707841031149"
      ]
     },
     "execution_count": 29,
     "metadata": {},
     "output_type": "execute_result"
    }
   ],
   "source": [
    "3/1.862\n"
   ]
  },
  {
   "cell_type": "code",
   "execution_count": 30,
   "metadata": {},
   "outputs": [
    {
     "name": "stdout",
     "output_type": "stream",
     "text": [
      "<class 'pandas.core.frame.DataFrame'>\n",
      "RangeIndex: 61 entries, 0 to 60\n",
      "Data columns (total 6 columns):\n",
      " #   Column            Non-Null Count  Dtype  \n",
      "---  ------            --------------  -----  \n",
      " 0   number_of_words   61 non-null     int64  \n",
      " 1   val_accuracy      61 non-null     float64\n",
      " 2   remove_stopwords  60 non-null     object \n",
      " 3   lemmatize         60 non-null     object \n",
      " 4   f1                61 non-null     float64\n",
      " 5   config            61 non-null     object \n",
      "dtypes: float64(2), int64(1), object(3)\n",
      "memory usage: 3.0+ KB\n",
      "None\n"
     ]
    }
   ],
   "source": [
    "import pandas as pd\n",
    "import re\n",
    "\n",
    "data = \"\"\"\n",
    "(1 of 20) Stopwords: False, Lemmatize: False, Number of words: 300, Val accuracy: 0.6878, F1 score: 0.6422\n",
    "[[792 204]\n",
    " [249 269]]\n",
    "(2 of 20) Stopwords: False, Lemmatize: True, Number of words: 300, Val accuracy: 0.701, F1 score: 0.6603\n",
    "[[741 255]\n",
    " [188 330]]\n",
    "(3 of 20) Stopwords: True, Lemmatize: False, Number of words: 300, Val accuracy: 0.7076, F1 score: 0.6841\n",
    "[[753 243]\n",
    " [219 299]]\n",
    "(4 of 20) Stopwords: True, Lemmatize: True, Number of words: 300, Val accuracy: 0.695, F1 score: 0.6647\n",
    "[[781 215]\n",
    " [190 328]]\n",
    "(5 of 20) Stopwords: False, Lemmatize: False, Number of words: 1000, Val accuracy: 0.7327, F1 score: 0.7062\n",
    "[[765 231]\n",
    " [203 315]]\n",
    "(6 of 20) Stopwords: False, Lemmatize: True, Number of words: 1000, Val accuracy: 0.7135, F1 score: 0.6856\n",
    "[[772 224]\n",
    " [189 329]]\n",
    "(7 of 20) Stopwords: True, Lemmatize: False, Number of words: 1000, Val accuracy: 0.7274, F1 score: 0.7017\n",
    "[[767 229]\n",
    " [199 319]]\n",
    "(8 of 20) Stopwords: True, Lemmatize: True, Number of words: 1000, Val accuracy: 0.7175, F1 score: 0.6902\n",
    "[[821 175]\n",
    " [228 290]]\n",
    "(9 of 20) Stopwords: False, Lemmatize: False, Number of words: 2000, Val accuracy: 0.734, F1 score: 0.6965\n",
    "[[789 207]\n",
    " [202 316]]\n",
    "(10 of 20) Stopwords: False, Lemmatize: True, Number of words: 2000, Val accuracy: 0.73, F1 score: 0.7006\n",
    "[[811 185]\n",
    " [213 305]]\n",
    "(11 of 20) Stopwords: True, Lemmatize: False, Number of words: 2000, Val accuracy: 0.7373, F1 score: 0.7041\n",
    "[[817 179]\n",
    " [222 296]]\n",
    "(12 of 20) Stopwords: True, Lemmatize: True, Number of words: 2000, Val accuracy: 0.7353, F1 score: 0.6996\n",
    "[[819 177]\n",
    " [219 299]]\n",
    "(13 of 20) Stopwords: False, Lemmatize: False, Number of words: 5000, Val accuracy: 0.7386, F1 score: 0.7035\n",
    "[[783 213]\n",
    " [184 334]]\n",
    "(14 of 20) Stopwords: False, Lemmatize: True, Number of words: 5000, Val accuracy: 0.738, F1 score: 0.7125\n",
    "[[821 175]\n",
    " [216 302]]\n",
    "(15 of 20) Stopwords: True, Lemmatize: False, Number of words: 5000, Val accuracy: 0.7419, F1 score: 0.7074\n",
    "[[822 174]\n",
    " [238 280]]\n",
    "(16 of 20) Stopwords: True, Lemmatize: True, Number of words: 5000, Val accuracy: 0.7281, F1 score: 0.6879\n",
    "[[844 152]\n",
    " [240 278]]\n",
    "(17 of 20) Stopwords: False, Lemmatize: False, Number of words: 10000, Val accuracy: 0.7413, F1 score: 0.699\n",
    "[[832 164]\n",
    " [226 292]]\n",
    "(18 of 20) Stopwords: False, Lemmatize: True, Number of words: 10000, Val accuracy: 0.7426, F1 score: 0.7049\n",
    "[[822 174]\n",
    " [219 299]]\n",
    "(19 of 20) Stopwords: True, Lemmatize: False, Number of words: 10000, Val accuracy: 0.7406, F1 score: 0.7053\n",
    "[[810 186]\n",
    " [223 295]]\n",
    "(20 of 20) Stopwords: True, Lemmatize: True, Number of words: 10000, Val accuracy: 0.73, F1 score: 0.6945\n",
    "[[776 220]\n",
    " [251 267]]\n",
    "(21 of 20) Stopwords: False, Lemmatize: False, Number of words: 300, Val accuracy: 0.6891, F1 score: 0.6493\n",
    "[[761 235]\n",
    " [224 294]]\n",
    "(22 of 20) Stopwords: False, Lemmatize: True, Number of words: 300, Val accuracy: 0.697, F1 score: 0.665\n",
    "[[742 254]\n",
    " [201 317]]\n",
    "(23 of 20) Stopwords: True, Lemmatize: False, Number of words: 300, Val accuracy: 0.6997, F1 score: 0.6738\n",
    "[[794 202]\n",
    " [225 293]]\n",
    "(24 of 20) Stopwords: True, Lemmatize: True, Number of words: 300, Val accuracy: 0.7182, F1 score: 0.6833\n",
    "[[786 210]\n",
    " [206 312]]\n",
    "(25 of 20) Stopwords: False, Lemmatize: False, Number of words: 1000, Val accuracy: 0.7254, F1 score: 0.6954\n",
    "[[795 201]\n",
    " [226 292]]\n",
    "(26 of 20) Stopwords: False, Lemmatize: True, Number of words: 1000, Val accuracy: 0.7182, F1 score: 0.683\n",
    "[[793 203]\n",
    " [225 293]]\n",
    "(27 of 20) Stopwords: True, Lemmatize: False, Number of words: 1000, Val accuracy: 0.7175, F1 score: 0.6827\n",
    "[[768 228]\n",
    " [207 311]]\n",
    "(28 of 20) Stopwords: True, Lemmatize: True, Number of words: 1000, Val accuracy: 0.7129, F1 score: 0.6839\n",
    "[[816 180]\n",
    " [224 294]]\n",
    "(29 of 20) Stopwords: False, Lemmatize: False, Number of words: 2000, Val accuracy: 0.7333, F1 score: 0.6972\n",
    "[[823 173]\n",
    " [231 287]]\n",
    "(30 of 20) Stopwords: False, Lemmatize: True, Number of words: 2000, Val accuracy: 0.7333, F1 score: 0.6949\n",
    "[[798 198]\n",
    " [204 314]]\n",
    "(31 of 20) Stopwords: True, Lemmatize: False, Number of words: 2000, Val accuracy: 0.7347, F1 score: 0.7043\n",
    "[[812 184]\n",
    " [233 285]]\n",
    "(32 of 20) Stopwords: True, Lemmatize: True, Number of words: 2000, Val accuracy: 0.7248, F1 score: 0.6866\n",
    "[[813 183]\n",
    " [214 304]]\n",
    "(33 of 20) Stopwords: False, Lemmatize: False, Number of words: 5000, Val accuracy: 0.738, F1 score: 0.7044\n",
    "[[814 182]\n",
    " [217 301]]\n",
    "(34 of 20) Stopwords: False, Lemmatize: True, Number of words: 5000, Val accuracy: 0.7366, F1 score: 0.7023\n",
    "[[819 177]\n",
    " [223 295]]\n",
    "(35 of 20) Stopwords: True, Lemmatize: False, Number of words: 5000, Val accuracy: 0.736, F1 score: 0.6998\n",
    "[[828 168]\n",
    " [222 296]]\n",
    "(36 of 20) Stopwords: True, Lemmatize: True, Number of words: 5000, Val accuracy: 0.7426, F1 score: 0.7061\n",
    "[[800 196]\n",
    " [208 310]]\n",
    "(37 of 20) Stopwords: False, Lemmatize: False, Number of words: 10000, Val accuracy: 0.7333, F1 score: 0.7019\n",
    "[[811 185]\n",
    " [214 304]]\n",
    "(38 of 20) Stopwords: False, Lemmatize: True, Number of words: 10000, Val accuracy: 0.7366, F1 score: 0.7032\n",
    "[[826 170]\n",
    " [229 289]]\n",
    "(39 of 20) Stopwords: True, Lemmatize: False, Number of words: 10000, Val accuracy: 0.7366, F1 score: 0.6985\n",
    "[[759 237]\n",
    " [171 347]]\n",
    "(40 of 20) Stopwords: True, Lemmatize: True, Number of words: 10000, Val accuracy: 0.7307, F1 score: 0.709\n",
    "[[765 231]\n",
    " [234 284]]\n",
    "(41 of 20) Stopwords: False, Lemmatize: False, Number of words: 300, Val accuracy: 0.6931, F1 score: 0.6584\n",
    "[[792 204]\n",
    " [248 270]]\n",
    "(42 of 20) Stopwords: False, Lemmatize: True, Number of words: 300, Val accuracy: 0.7017, F1 score: 0.6612\n",
    "[[769 227]\n",
    " [203 315]]\n",
    "(43 of 20) Stopwords: True, Lemmatize: False, Number of words: 300, Val accuracy: 0.7162, F1 score: 0.6879\n",
    "[[788 208]\n",
    " [237 281]]\n",
    "(44 of 20) Stopwords: True, Lemmatize: True, Number of words: 300, Val accuracy: 0.7063, F1 score: 0.669\n",
    "[[850 146]\n",
    " [273 245]]\n",
    "(45 of 20) Stopwords: False, Lemmatize: False, Number of words: 1000, Val accuracy: 0.7234, F1 score: 0.6707\n",
    "[[769 227]\n",
    " [199 319]]\n",
    "(46 of 20) Stopwords: False, Lemmatize: True, Number of words: 1000, Val accuracy: 0.7188, F1 score: 0.6914\n",
    "[[757 239]\n",
    " [195 323]]\n",
    "(47 of 20) Stopwords: True, Lemmatize: False, Number of words: 1000, Val accuracy: 0.7135, F1 score: 0.6877\n",
    "[[779 217]\n",
    " [207 311]]\n",
    "(48 of 20) Stopwords: True, Lemmatize: True, Number of words: 1000, Val accuracy: 0.7201, F1 score: 0.6904\n",
    "[[808 188]\n",
    " [219 299]]\n",
    "(49 of 20) Stopwords: False, Lemmatize: False, Number of words: 2000, Val accuracy: 0.7314, F1 score: 0.6969\n",
    "[[788 208]\n",
    " [213 305]]\n",
    "(50 of 20) Stopwords: False, Lemmatize: True, Number of words: 2000, Val accuracy: 0.7221, F1 score: 0.6904\n",
    "[[809 187]\n",
    " [233 285]]\n",
    "(51 of 20) Stopwords: True, Lemmatize: False, Number of words: 2000, Val accuracy: 0.7228, F1 score: 0.6848\n",
    "[[813 183]\n",
    " [235 283]]\n",
    "(52 of 20) Stopwords: True, Lemmatize: True, Number of words: 2000, Val accuracy: 0.7241, F1 score: 0.6854\n",
    "[[815 181]\n",
    " [211 307]]\n",
    "(53 of 20) Stopwords: False, Lemmatize: False, Number of words: 5000, Val accuracy: 0.7413, F1 score: 0.7082\n",
    "[[746 250]\n",
    " [177 341]]\n",
    "(54 of 20) Stopwords: False, Lemmatize: True, Number of words: 5000, Val accuracy: 0.7182, F1 score: 0.6962\n",
    "[[832 164]\n",
    " [227 291]]\n",
    "(55 of 20) Stopwords: True, Lemmatize: False, Number of words: 5000, Val accuracy: 0.7419, F1 score: 0.7039\n",
    "[[835 161]\n",
    " [240 278]]\n",
    "(56 of 20) Stopwords: True, Lemmatize: True, Number of words: 5000, Val accuracy: 0.7353, F1 score: 0.6937\n",
    "[[818 178]\n",
    " [218 300]]\n",
    "(57 of 20) Stopwords: False, Lemmatize: False, Number of words: 10000, Val accuracy: 0.7386, F1 score: 0.7038\n",
    "[[803 193]\n",
    " [212 306]]\n",
    "(58 of 20) Stopwords: False, Lemmatize: True, Number of words: 10000, Val accuracy: 0.7327, F1 score: 0.7002\n",
    "[[796 200]\n",
    " [198 320]]\n",
    "(59 of 20) Stopwords: True, Lemmatize: False, Number of words: 10000, Val accuracy: 0.7373, F1 score: 0.7083\n",
    "[[814 182]\n",
    " [224 294]]\n",
    "(60 of 20) Stopwords: True, Lemmatize: True, Number of words: 10000, Val accuracy: 0.732, F1 score: 0.696\n",
    "\"\"\"       \n",
    "                    \n",
    "                    \n",
    "pattern = re.compile(\n",
    "    r\"Stopwords:\\s*(True|False),\\s*Lemmatize:\\s*(True|False),\\s*Number of words:\\s*(\\d+),\\s*Val accuracy:\\s*([\\d.]+),\\s*F1 score:\\s*([\\d.]+)\"\n",
    ")\n",
    "\n",
    "rows = []\n",
    "for match in pattern.finditer(data):\n",
    "    remove_stopwords = match.group(1) == \"True\"\n",
    "    lemmatize = match.group(2) == \"True\"\n",
    "    number_of_words = int(match.group(3))\n",
    "    val_accuracy = float(match.group(4))\n",
    "    f1 = float(match.group(5))\n",
    "    config = f\"Stopwords={remove_stopwords}, Lemmatize={lemmatize}\"\n",
    "\n",
    "    rows.append({\n",
    "        \"number_of_words\": number_of_words,\n",
    "        \"val_accuracy\": val_accuracy,\n",
    "        \"remove_stopwords\": remove_stopwords,\n",
    "        \"lemmatize\": lemmatize,\n",
    "        \"f1\": f1,\n",
    "        \"config\": config\n",
    "    })\n",
    "\n",
    "dfw = pd.DataFrame(rows)\n",
    "for num_word in num_words_list:\n",
    "    baseline_row_data = {'number_of_words': [num_word], 'val_accuracy': [baseline_accuracy], 'f1': [baseline_f1], 'config': 'Baseline Linear Regression Model'}\n",
    "    baseline_rows = pd.DataFrame(baseline_row_data)\n",
    "    dfw = pd.concat([dfw,baseline_rows], ignore_index=True)\n",
    "print(dfw.info())"
   ]
  },
  {
   "cell_type": "code",
   "execution_count": 31,
   "metadata": {},
   "outputs": [
    {
     "data": {
      "image/png": "[encoded data removed]",
      "text/plain": [
       "<Figure size 720x432 with 1 Axes>"
      ]
     },
     "metadata": {
      "needs_background": "light"
     },
     "output_type": "display_data"
    },
    {
     "data": {
      "text/plain": [
       "0.7053666666666668"
      ]
     },
     "execution_count": 31,
     "metadata": {},
     "output_type": "execute_result"
    }
   ],
   "source": [
    "avg_dataw = dfw.groupby([\"number_of_words\", \"config\"], as_index=False)[\"f1\"].mean()        \n",
    "\n",
    "fig, ax2 = plt.subplots(figsize=(10,6))\n",
    "\n",
    "sns.lineplot(\n",
    "    data=avg_dataw,\n",
    "    x=\"number_of_words\",\n",
    "    y=\"f1\",\n",
    "    hue=\"config\",\n",
    "    style=\"config\",\n",
    "    ax=ax2,\n",
    "    markers=True,\n",
    "    dashes=True)\n",
    "plt.ylim(0.64, 0.71)\n",
    "plt.title(\"Validation F1 Score vs Number of Words\", fontsize=14)\n",
    "plt.xlabel(\"Number of Words\", fontsize=12)\n",
    "plt.ylabel(\"Validation F1 Score\", fontsize=12)\n",
    "plt.legend(title=\"Preprocessing Config\")\n",
    "plt.grid(True, alpha=0.3)\n",
    "plt.show()\n",
    "\n",
    "avg_dataw['f1'].max()"
   ]
  },
  {
   "cell_type": "code",
   "execution_count": null,
   "metadata": {},
   "outputs": [],
   "source": []
  },
  {
   "cell_type": "code",
   "execution_count": 36,
   "metadata": {},
   "outputs": [
    {
     "name": "stdout",
     "output_type": "stream",
     "text": [
      "WARNING:tensorflow:5 out of the last 19 calls to <function Model.make_predict_function.<locals>.predict_function at 0x000001C23B373940> triggered tf.function retracing. Tracing is expensive and the excessive number of tracings could be due to (1) creating @tf.function repeatedly in a loop, (2) passing tensors with different shapes, (3) passing Python objects instead of tensors. For (1), please define your @tf.function outside of the loop. For (2), @tf.function has reduce_retracing=True option that can avoid unnecessary retracing. For (3), please refer to https://www.tensorflow.org/guide/function#controlling_retracing and https://www.tensorflow.org/api_docs/python/tf/function for  more details.\n",
      "[[153  26]\n",
      " [ 49  39]]\n",
      "Max Val Accuracy: 0.7164179086685181\n",
      "F1 score:  0.65647676393392\n"
     ]
    },
    {
     "data": {
      "image/png": "[encoded data removed]",
      "text/plain": [
       "<Figure size 576x360 with 1 Axes>"
      ]
     },
     "metadata": {
      "needs_background": "light"
     },
     "output_type": "display_data"
    },
    {
     "data": {
      "text/plain": [
       "(0.7164179086685181,\n",
       " 0.65647676393392,\n",
       " Pipeline(steps=[('prep', TextPrep()), ('tok', KerasTokenizer()),\n",
       "                 ('clf',\n",
       "                  KerasClassifier(batch_size=256, build_fn=<function run_pipe.<locals>.<lambda> at 0x000001C239A290D0>, callbacks=[<keras.src.callbacks.EarlyStopping object at 0x000001C237894700>], class_weight={0: 1, 1: 1}, epochs=300, validation_split=0.2, verbose=0))]))"
      ]
     },
     "execution_count": 36,
     "metadata": {},
     "output_type": "execute_result"
    }
   ],
   "source": [
    "run_pipe(X_test,y_test, num_words=5000, num_epochs=300, remove_stopwords=False, lemmatize=True, show_results=True)"
   ]
  },
  {
   "cell_type": "code",
   "execution_count": null,
   "metadata": {},
   "outputs": [],
   "source": []
  },
  {
   "cell_type": "code",
   "execution_count": null,
   "metadata": {},
   "outputs": [],
   "source": []
  }
 ],
 "metadata": {
  "kernelspec": {
   "display_name": "Python 3",
   "language": "python",
   "name": "python3"
  },
  "language_info": {
   "codemirror_mode": {
    "name": "ipython",
    "version": 3
   },
   "file_extension": ".py",
   "mimetype": "text/x-python",
   "name": "python",
   "nbconvert_exporter": "python",
   "pygments_lexer": "ipython3",
   "version": "3.8.5"
  }
 },
 "nbformat": 4,
 "nbformat_minor": 4
}
