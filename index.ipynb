{
 "cells": [
  {
   "cell_type": "markdown",
   "metadata": {},
   "source": [
    "# Phase 4 project"
   ]
  },
  {
   "cell_type": "markdown",
   "metadata": {},
   "source": [
    "## Summary\n",
    "The notebook should include a summary at the beginning that briefly and accurately describes your process. The summary should be approximately 250 words -- about the size of a research paper abstract."
   ]
  },
  {
   "cell_type": "markdown",
   "metadata": {},
   "source": [
    "# Notes:\n",
    "\n",
    "|  ||\n",
    "|:-----|:----:|\n",
    "|lines total     |9093     |\n",
    "|have \"directed_at\" product  |3291     |\n",
    "\n",
    "\n",
    "|Sentiment  |Count|\n",
    "|:-----|:----:|\n",
    "|No emotion toward brand or product     |5389     |\n",
    "|Positive emotion     |2978     |\n",
    "|Negative emotion     |570     |\n",
    "|I can't tell     |156     |\n",
    "\n",
    "\n",
    "iPad                               946<br>\n",
    "Apple                              661<br>\n",
    "iPad or iPhone App                 470<br>\n",
    "Google                             430<br>\n",
    "iPhone                             297<br>\n",
    "Other Google product or service    293<br>\n",
    "Android App                         81<br>\n",
    "Android                             78<br>\n",
    "Other Apple product or service      35\n",
    "\n",
    "\n"
   ]
  },
  {
   "cell_type": "markdown",
   "metadata": {},
   "source": [
    "---\n",
    "## Part 1: KNN + Pipelines [Suggested time: 20 minutes]\n",
    "---"
   ]
  },
  {
   "cell_type": "code",
   "execution_count": 66,
   "metadata": {},
   "outputs": [
    {
     "name": "stderr",
     "output_type": "stream",
     "text": [
      "[nltk_data] Downloading package punkt to\n",
      "[nltk_data]     C:\\Users\\mleroi\\AppData\\Roaming\\nltk_data...\n",
      "[nltk_data]   Package punkt is already up-to-date!\n",
      "[nltk_data] Downloading package stopwords to\n",
      "[nltk_data]     C:\\Users\\mleroi\\AppData\\Roaming\\nltk_data...\n",
      "[nltk_data]   Package stopwords is already up-to-date!\n"
     ]
    }
   ],
   "source": [
    "# Run this cell without changes\n",
    "import pandas as pd\n",
    "import numpy as np\n",
    "import matplotlib.pyplot as plt\n",
    "import seaborn as sns\n",
    "\n",
    "from sklearn.pipeline import Pipeline\n",
    "from sklearn.impute import SimpleImputer\n",
    "from sklearn.preprocessing import StandardScaler, LabelEncoder\n",
    "from sklearn.neighbors import KNeighborsClassifier\n",
    "from sklearn.metrics import accuracy_score, confusion_matrix, ConfusionMatrixDisplay, silhouette_score\n",
    "\n",
    "from sklearn.model_selection import train_test_split, GridSearchCV\n",
    "from keras import models\n",
    "from keras import layers\n",
    "from keras import optimizers\n",
    "\n",
    "from keras.preprocessing.text import Tokenizer\n",
    "from tensorflow.keras.utils import to_categorical\n",
    "\n",
    "import nltk\n",
    "import re\n",
    "nltk.download('punkt')\n",
    "from nltk.tokenize import word_tokenize\n",
    "nltk.download('stopwords')\n",
    "from nltk.corpus import stopwords\n",
    "from nltk.stem import SnowballStemmer\n",
    "\n",
    "from sklearn.feature_extraction.text import TfidfVectorizer\n",
    "from sklearn.naive_bayes import MultinomialNB\n",
    "\n",
    "from sklearn.cluster import KMeans"
   ]
  },
  {
   "cell_type": "code",
   "execution_count": 67,
   "metadata": {},
   "outputs": [
    {
     "name": "stdout",
     "output_type": "stream",
     "text": [
      "<class 'pandas.core.frame.DataFrame'>\n",
      "RangeIndex: 9093 entries, 0 to 9092\n",
      "Data columns (total 3 columns):\n",
      " #   Column                                              Non-Null Count  Dtype \n",
      "---  ------                                              --------------  ----- \n",
      " 0   tweet_text                                          9092 non-null   object\n",
      " 1   emotion_in_tweet_is_directed_at                     3291 non-null   object\n",
      " 2   is_there_an_emotion_directed_at_a_brand_or_product  9093 non-null   object\n",
      "dtypes: object(3)\n",
      "memory usage: 213.2+ KB\n"
     ]
    }
   ],
   "source": [
    "df = pd.read_csv('judge-1377884607_tweet_product_company.csv', encoding='latin1')\n",
    "df.info()"
   ]
  },
  {
   "cell_type": "code",
   "execution_count": 68,
   "metadata": {},
   "outputs": [],
   "source": [
    "processed_df=df.dropna(subset=['tweet_text'])"
   ]
  },
  {
   "cell_type": "code",
   "execution_count": 69,
   "metadata": {},
   "outputs": [
    {
     "data": {
      "text/html": [
       "<div>\n",
       "<style scoped>\n",
       "    .dataframe tbody tr th:only-of-type {\n",
       "        vertical-align: middle;\n",
       "    }\n",
       "\n",
       "    .dataframe tbody tr th {\n",
       "        vertical-align: top;\n",
       "    }\n",
       "\n",
       "    .dataframe thead th {\n",
       "        text-align: right;\n",
       "    }\n",
       "</style>\n",
       "<table border=\"1\" class=\"dataframe\">\n",
       "  <thead>\n",
       "    <tr style=\"text-align: right;\">\n",
       "      <th></th>\n",
       "      <th>tweet_text</th>\n",
       "      <th>emotion_in_tweet_is_directed_at</th>\n",
       "      <th>is_there_an_emotion_directed_at_a_brand_or_product</th>\n",
       "    </tr>\n",
       "  </thead>\n",
       "  <tbody>\n",
       "    <tr>\n",
       "      <th>0</th>\n",
       "      <td>.@wesley83 I have a 3G iPhone. After 3 hrs twe...</td>\n",
       "      <td>iPhone</td>\n",
       "      <td>Negative emotion</td>\n",
       "    </tr>\n",
       "    <tr>\n",
       "      <th>1</th>\n",
       "      <td>@jessedee Know about @fludapp ? Awesome iPad/i...</td>\n",
       "      <td>iPad or iPhone App</td>\n",
       "      <td>Positive emotion</td>\n",
       "    </tr>\n",
       "    <tr>\n",
       "      <th>2</th>\n",
       "      <td>@swonderlin Can not wait for #iPad 2 also. The...</td>\n",
       "      <td>iPad</td>\n",
       "      <td>Positive emotion</td>\n",
       "    </tr>\n",
       "    <tr>\n",
       "      <th>3</th>\n",
       "      <td>@sxsw I hope this year's festival isn't as cra...</td>\n",
       "      <td>iPad or iPhone App</td>\n",
       "      <td>Negative emotion</td>\n",
       "    </tr>\n",
       "    <tr>\n",
       "      <th>4</th>\n",
       "      <td>@sxtxstate great stuff on Fri #SXSW: Marissa M...</td>\n",
       "      <td>Google</td>\n",
       "      <td>Positive emotion</td>\n",
       "    </tr>\n",
       "    <tr>\n",
       "      <th>...</th>\n",
       "      <td>...</td>\n",
       "      <td>...</td>\n",
       "      <td>...</td>\n",
       "    </tr>\n",
       "    <tr>\n",
       "      <th>9088</th>\n",
       "      <td>Ipad everywhere. #SXSW {link}</td>\n",
       "      <td>iPad</td>\n",
       "      <td>Positive emotion</td>\n",
       "    </tr>\n",
       "    <tr>\n",
       "      <th>9089</th>\n",
       "      <td>Wave, buzz... RT @mention We interrupt your re...</td>\n",
       "      <td>NaN</td>\n",
       "      <td>No emotion toward brand or product</td>\n",
       "    </tr>\n",
       "    <tr>\n",
       "      <th>9090</th>\n",
       "      <td>Google's Zeiger, a physician never reported po...</td>\n",
       "      <td>NaN</td>\n",
       "      <td>No emotion toward brand or product</td>\n",
       "    </tr>\n",
       "    <tr>\n",
       "      <th>9091</th>\n",
       "      <td>Some Verizon iPhone customers complained their...</td>\n",
       "      <td>NaN</td>\n",
       "      <td>No emotion toward brand or product</td>\n",
       "    </tr>\n",
       "    <tr>\n",
       "      <th>9092</th>\n",
       "      <td>Ï¡Ïàü_ÊÎÒ£Áââ_£â_ÛâRT @...</td>\n",
       "      <td>NaN</td>\n",
       "      <td>No emotion toward brand or product</td>\n",
       "    </tr>\n",
       "  </tbody>\n",
       "</table>\n",
       "<p>9092 rows × 3 columns</p>\n",
       "</div>"
      ],
      "text/plain": [
       "                                             tweet_text  \\\n",
       "0     .@wesley83 I have a 3G iPhone. After 3 hrs twe...   \n",
       "1     @jessedee Know about @fludapp ? Awesome iPad/i...   \n",
       "2     @swonderlin Can not wait for #iPad 2 also. The...   \n",
       "3     @sxsw I hope this year's festival isn't as cra...   \n",
       "4     @sxtxstate great stuff on Fri #SXSW: Marissa M...   \n",
       "...                                                 ...   \n",
       "9088                      Ipad everywhere. #SXSW {link}   \n",
       "9089  Wave, buzz... RT @mention We interrupt your re...   \n",
       "9090  Google's Zeiger, a physician never reported po...   \n",
       "9091  Some Verizon iPhone customers complained their...   \n",
       "9092  Ï¡Ïàü_ÊÎÒ£Áââ_£â_ÛâRT @...   \n",
       "\n",
       "     emotion_in_tweet_is_directed_at  \\\n",
       "0                             iPhone   \n",
       "1                 iPad or iPhone App   \n",
       "2                               iPad   \n",
       "3                 iPad or iPhone App   \n",
       "4                             Google   \n",
       "...                              ...   \n",
       "9088                            iPad   \n",
       "9089                             NaN   \n",
       "9090                             NaN   \n",
       "9091                             NaN   \n",
       "9092                             NaN   \n",
       "\n",
       "     is_there_an_emotion_directed_at_a_brand_or_product  \n",
       "0                                      Negative emotion  \n",
       "1                                      Positive emotion  \n",
       "2                                      Positive emotion  \n",
       "3                                      Negative emotion  \n",
       "4                                      Positive emotion  \n",
       "...                                                 ...  \n",
       "9088                                   Positive emotion  \n",
       "9089                 No emotion toward brand or product  \n",
       "9090                 No emotion toward brand or product  \n",
       "9091                 No emotion toward brand or product  \n",
       "9092                 No emotion toward brand or product  \n",
       "\n",
       "[9092 rows x 3 columns]"
      ]
     },
     "execution_count": 69,
     "metadata": {},
     "output_type": "execute_result"
    }
   ],
   "source": [
    "processed_df"
   ]
  },
  {
   "cell_type": "code",
   "execution_count": 70,
   "metadata": {},
   "outputs": [
    {
     "data": {
      "text/plain": [
       "'Wave, buzz... RT @mention We interrupt your regularly scheduled #sxsw geek programming with big news {link}  #google #circles'"
      ]
     },
     "metadata": {},
     "output_type": "display_data"
    }
   ],
   "source": [
    "display(df.loc[9089,'tweet_text'])"
   ]
  },
  {
   "cell_type": "code",
   "execution_count": 71,
   "metadata": {},
   "outputs": [
    {
     "data": {
      "text/plain": [
       "iPad                               946\n",
       "Apple                              661\n",
       "iPad or iPhone App                 470\n",
       "Google                             430\n",
       "iPhone                             297\n",
       "Other Google product or service    293\n",
       "Android App                         81\n",
       "Android                             78\n",
       "Other Apple product or service      35\n",
       "Name: emotion_in_tweet_is_directed_at, dtype: int64"
      ]
     },
     "execution_count": 71,
     "metadata": {},
     "output_type": "execute_result"
    }
   ],
   "source": [
    "processed_df['emotion_in_tweet_is_directed_at'].value_counts()"
   ]
  },
  {
   "cell_type": "code",
   "execution_count": 72,
   "metadata": {},
   "outputs": [
    {
     "data": {
      "text/plain": [
       "No emotion toward brand or product    5388\n",
       "Positive emotion                      2978\n",
       "Negative emotion                       570\n",
       "I can't tell                           156\n",
       "Name: is_there_an_emotion_directed_at_a_brand_or_product, dtype: int64"
      ]
     },
     "execution_count": 72,
     "metadata": {},
     "output_type": "execute_result"
    }
   ],
   "source": [
    "processed_df['is_there_an_emotion_directed_at_a_brand_or_product'].value_counts()"
   ]
  },
  {
   "cell_type": "code",
   "execution_count": 73,
   "metadata": {},
   "outputs": [
    {
     "data": {
      "text/html": [
       "<div>\n",
       "<style scoped>\n",
       "    .dataframe tbody tr th:only-of-type {\n",
       "        vertical-align: middle;\n",
       "    }\n",
       "\n",
       "    .dataframe tbody tr th {\n",
       "        vertical-align: top;\n",
       "    }\n",
       "\n",
       "    .dataframe thead th {\n",
       "        text-align: right;\n",
       "    }\n",
       "</style>\n",
       "<table border=\"1\" class=\"dataframe\">\n",
       "  <thead>\n",
       "    <tr style=\"text-align: right;\">\n",
       "      <th></th>\n",
       "      <th>tweet_text</th>\n",
       "      <th>emotion_in_tweet_is_directed_at</th>\n",
       "      <th>is_there_an_emotion_directed_at_a_brand_or_product</th>\n",
       "    </tr>\n",
       "  </thead>\n",
       "  <tbody>\n",
       "    <tr>\n",
       "      <th>0</th>\n",
       "      <td>.@wesley83 I have a 3G iPhone. After 3 hrs twe...</td>\n",
       "      <td>iPhone</td>\n",
       "      <td>Negative emotion</td>\n",
       "    </tr>\n",
       "    <tr>\n",
       "      <th>1</th>\n",
       "      <td>@jessedee Know about @fludapp ? Awesome iPad/i...</td>\n",
       "      <td>iPad or iPhone App</td>\n",
       "      <td>Positive emotion</td>\n",
       "    </tr>\n",
       "    <tr>\n",
       "      <th>2</th>\n",
       "      <td>@swonderlin Can not wait for #iPad 2 also. The...</td>\n",
       "      <td>iPad</td>\n",
       "      <td>Positive emotion</td>\n",
       "    </tr>\n",
       "    <tr>\n",
       "      <th>3</th>\n",
       "      <td>@sxsw I hope this year's festival isn't as cra...</td>\n",
       "      <td>iPad or iPhone App</td>\n",
       "      <td>Negative emotion</td>\n",
       "    </tr>\n",
       "    <tr>\n",
       "      <th>4</th>\n",
       "      <td>@sxtxstate great stuff on Fri #SXSW: Marissa M...</td>\n",
       "      <td>Google</td>\n",
       "      <td>Positive emotion</td>\n",
       "    </tr>\n",
       "    <tr>\n",
       "      <th>...</th>\n",
       "      <td>...</td>\n",
       "      <td>...</td>\n",
       "      <td>...</td>\n",
       "    </tr>\n",
       "    <tr>\n",
       "      <th>9077</th>\n",
       "      <td>@mention your PR guy just convinced me to swit...</td>\n",
       "      <td>iPhone</td>\n",
       "      <td>Positive emotion</td>\n",
       "    </tr>\n",
       "    <tr>\n",
       "      <th>9079</th>\n",
       "      <td>&amp;quot;papyrus...sort of like the ipad&amp;quot; - ...</td>\n",
       "      <td>iPad</td>\n",
       "      <td>Positive emotion</td>\n",
       "    </tr>\n",
       "    <tr>\n",
       "      <th>9080</th>\n",
       "      <td>Diller says Google TV &amp;quot;might be run over ...</td>\n",
       "      <td>Other Google product or service</td>\n",
       "      <td>Negative emotion</td>\n",
       "    </tr>\n",
       "    <tr>\n",
       "      <th>9085</th>\n",
       "      <td>I've always used Camera+ for my iPhone b/c it ...</td>\n",
       "      <td>iPad or iPhone App</td>\n",
       "      <td>Positive emotion</td>\n",
       "    </tr>\n",
       "    <tr>\n",
       "      <th>9088</th>\n",
       "      <td>Ipad everywhere. #SXSW {link}</td>\n",
       "      <td>iPad</td>\n",
       "      <td>Positive emotion</td>\n",
       "    </tr>\n",
       "  </tbody>\n",
       "</table>\n",
       "<p>3548 rows × 3 columns</p>\n",
       "</div>"
      ],
      "text/plain": [
       "                                             tweet_text  \\\n",
       "0     .@wesley83 I have a 3G iPhone. After 3 hrs twe...   \n",
       "1     @jessedee Know about @fludapp ? Awesome iPad/i...   \n",
       "2     @swonderlin Can not wait for #iPad 2 also. The...   \n",
       "3     @sxsw I hope this year's festival isn't as cra...   \n",
       "4     @sxtxstate great stuff on Fri #SXSW: Marissa M...   \n",
       "...                                                 ...   \n",
       "9077  @mention your PR guy just convinced me to swit...   \n",
       "9079  &quot;papyrus...sort of like the ipad&quot; - ...   \n",
       "9080  Diller says Google TV &quot;might be run over ...   \n",
       "9085  I've always used Camera+ for my iPhone b/c it ...   \n",
       "9088                      Ipad everywhere. #SXSW {link}   \n",
       "\n",
       "      emotion_in_tweet_is_directed_at  \\\n",
       "0                              iPhone   \n",
       "1                  iPad or iPhone App   \n",
       "2                                iPad   \n",
       "3                  iPad or iPhone App   \n",
       "4                              Google   \n",
       "...                               ...   \n",
       "9077                           iPhone   \n",
       "9079                             iPad   \n",
       "9080  Other Google product or service   \n",
       "9085               iPad or iPhone App   \n",
       "9088                             iPad   \n",
       "\n",
       "     is_there_an_emotion_directed_at_a_brand_or_product  \n",
       "0                                      Negative emotion  \n",
       "1                                      Positive emotion  \n",
       "2                                      Positive emotion  \n",
       "3                                      Negative emotion  \n",
       "4                                      Positive emotion  \n",
       "...                                                 ...  \n",
       "9077                                   Positive emotion  \n",
       "9079                                   Positive emotion  \n",
       "9080                                   Negative emotion  \n",
       "9085                                   Positive emotion  \n",
       "9088                                   Positive emotion  \n",
       "\n",
       "[3548 rows x 3 columns]"
      ]
     },
     "execution_count": 73,
     "metadata": {},
     "output_type": "execute_result"
    }
   ],
   "source": [
    "pos_neg_df = processed_df[(processed_df['is_there_an_emotion_directed_at_a_brand_or_product'] == 'Positive emotion') | (processed_df['is_there_an_emotion_directed_at_a_brand_or_product'] == 'Negative emotion')]\n",
    "pos_neg_df"
   ]
  },
  {
   "cell_type": "code",
   "execution_count": 86,
   "metadata": {},
   "outputs": [
    {
     "name": "stdout",
     "output_type": "stream",
     "text": [
      "one_hot_results type: <class 'numpy.ndarray'>\n",
      "Found 6230 unique tokens.\n",
      "Dimensions of our coded results: (3548, 2000)\n"
     ]
    }
   ],
   "source": [
    "# Raw text complaints\n",
    "pos_neg_tweets = pos_neg_df['tweet_text'] \n",
    "\n",
    "# Initialize a tokenizer \n",
    "tokenizer = Tokenizer(num_words=2000) \n",
    "\n",
    "# Fit it to the complaints\n",
    "tokenizer.fit_on_texts(pos_neg_tweets) \n",
    "\n",
    "\n",
    "# Similar to sequences, but returns a numpy array\n",
    "one_hot_results= tokenizer.texts_to_matrix(pos_neg_tweets, mode='binary') \n",
    "print('one_hot_results type:', type(one_hot_results))\n",
    "\n",
    "# Useful if we wish to decode (more explanation below)\n",
    "word_index = tokenizer.word_index \n",
    "\n",
    "# Tokens are the number of unique words across the corpus\n",
    "print('Found %s unique tokens.' % len(word_index)) \n",
    "\n",
    "# Our coded data\n",
    "print('Dimensions of our coded results:', np.shape(one_hot_results)) "
   ]
  },
  {
   "cell_type": "code",
   "execution_count": 87,
   "metadata": {},
   "outputs": [
    {
     "name": "stdout",
     "output_type": "stream",
     "text": [
      "Original class labels:\n",
      "['Negative emotion', 'Positive emotion']\n",
      "\n",
      "\n",
      "New product labels:\n",
      "[0 1 1 ... 0 1 1]\n",
      "\n",
      "\n",
      "One hot labels; 2 binary columns, one for each of the categories.\n",
      "[[1. 0.]\n",
      " [0. 1.]\n",
      " [0. 1.]\n",
      " ...\n",
      " [1. 0.]\n",
      " [0. 1.]\n",
      " [0. 1.]]\n",
      "\n",
      "\n",
      "One hot labels shape:\n",
      "(3548, 2)\n"
     ]
    }
   ],
   "source": [
    "# pos_neg_sentiment = [1 for sent in pos_neg_df['is_there_an_emotion_directed_at_a_brand_or_product']]\n",
    "# len(pos_neg_sentiment)\n",
    "\n",
    "pos_neg_sentiment = pos_neg_df['is_there_an_emotion_directed_at_a_brand_or_product']\n",
    "\n",
    "# Initialize\n",
    "le = LabelEncoder() \n",
    "le.fit(pos_neg_sentiment)\n",
    "print('Original class labels:')\n",
    "print(list(le.classes_))\n",
    "print('\\n')\n",
    "pos_neg_sentiment_cat = le.transform(pos_neg_sentiment)  \n",
    "\n",
    "# If you wish to retrieve the original descriptive labels post production\n",
    "# list(le.inverse_transform([0, 1, 3, 3, 0, 6, 4])) \n",
    "\n",
    "print('New product labels:')\n",
    "print(pos_neg_sentiment_cat)\n",
    "print('\\n')\n",
    "\n",
    "# Each row will be all zeros except for the category for that observation \n",
    "print('One hot labels; 2 binary columns, one for each of the categories.') \n",
    "pos_neg_sentiment_onehot = to_categorical(pos_neg_sentiment_cat)\n",
    "print(pos_neg_sentiment_onehot)\n",
    "print('\\n')\n",
    "\n",
    "print('One hot labels shape:')\n",
    "print(np.shape(pos_neg_sentiment_onehot))"
   ]
  },
  {
   "cell_type": "code",
   "execution_count": 88,
   "metadata": {},
   "outputs": [],
   "source": [
    "X_train_full, X_test, y_train_full, y_test = train_test_split(one_hot_results,pos_neg_sentiment_onehot, test_size=0.2, random_state=42)\n",
    "X_train, X_val, y_train, y_val = train_test_split(one_hot_results,pos_neg_sentiment_onehot, test_size=0.2, random_state=42)"
   ]
  },
  {
   "cell_type": "code",
   "execution_count": 89,
   "metadata": {},
   "outputs": [],
   "source": [
    "# Initialize a sequential model\n",
    "model = models.Sequential()\n",
    "\n",
    "# Two layers with relu activation\n",
    "model.add(layers.Dense(50, activation='relu', input_shape=(2000,)))\n",
    "model.add(layers.Dense(25, activation='relu'))\n",
    "\n",
    "# One layer with softmax activation \n",
    "model.add(layers.Dense(2, activation='softmax'))"
   ]
  },
  {
   "cell_type": "code",
   "execution_count": 90,
   "metadata": {},
   "outputs": [],
   "source": [
    "model.compile(optimizer='SGD',loss='categorical_crossentropy', metrics=['accuracy'])"
   ]
  },
  {
   "cell_type": "code",
   "execution_count": 91,
   "metadata": {},
   "outputs": [
    {
     "name": "stdout",
     "output_type": "stream",
     "text": [
      "Epoch 1/120\n",
      "12/12 [==============================] - 0s 16ms/step - loss: 0.6838 - accuracy: 0.5884 - val_loss: 0.6312 - val_accuracy: 0.8000\n",
      "Epoch 2/120\n",
      "12/12 [==============================] - 0s 7ms/step - loss: 0.6041 - accuracy: 0.8319 - val_loss: 0.5665 - val_accuracy: 0.8380\n",
      "Epoch 3/120\n",
      "12/12 [==============================] - 0s 7ms/step - loss: 0.5467 - accuracy: 0.8397 - val_loss: 0.5176 - val_accuracy: 0.8380\n",
      "Epoch 4/120\n",
      "12/12 [==============================] - 0s 7ms/step - loss: 0.5038 - accuracy: 0.8397 - val_loss: 0.4848 - val_accuracy: 0.8380\n",
      "Epoch 5/120\n",
      "12/12 [==============================] - 0s 6ms/step - loss: 0.4755 - accuracy: 0.8397 - val_loss: 0.4638 - val_accuracy: 0.8380\n",
      "Epoch 6/120\n",
      "12/12 [==============================] - 0s 7ms/step - loss: 0.4575 - accuracy: 0.8397 - val_loss: 0.4486 - val_accuracy: 0.8380\n",
      "Epoch 7/120\n",
      "12/12 [==============================] - 0s 7ms/step - loss: 0.4443 - accuracy: 0.8397 - val_loss: 0.4396 - val_accuracy: 0.8380\n",
      "Epoch 8/120\n",
      "12/12 [==============================] - 0s 10ms/step - loss: 0.4365 - accuracy: 0.8397 - val_loss: 0.4340 - val_accuracy: 0.8380\n",
      "Epoch 9/120\n",
      "12/12 [==============================] - 0s 7ms/step - loss: 0.4315 - accuracy: 0.8397 - val_loss: 0.4308 - val_accuracy: 0.8380\n",
      "Epoch 10/120\n",
      "12/12 [==============================] - 0s 8ms/step - loss: 0.4285 - accuracy: 0.8397 - val_loss: 0.4291 - val_accuracy: 0.8380\n",
      "Epoch 11/120\n",
      "12/12 [==============================] - 0s 6ms/step - loss: 0.4267 - accuracy: 0.8397 - val_loss: 0.4273 - val_accuracy: 0.8380\n",
      "Epoch 12/120\n",
      "12/12 [==============================] - 0s 7ms/step - loss: 0.4248 - accuracy: 0.8397 - val_loss: 0.4263 - val_accuracy: 0.8380\n",
      "Epoch 13/120\n",
      "12/12 [==============================] - 0s 8ms/step - loss: 0.4237 - accuracy: 0.8397 - val_loss: 0.4253 - val_accuracy: 0.8380\n",
      "Epoch 14/120\n",
      "12/12 [==============================] - 0s 6ms/step - loss: 0.4225 - accuracy: 0.8397 - val_loss: 0.4243 - val_accuracy: 0.8380\n",
      "Epoch 15/120\n",
      "12/12 [==============================] - 0s 6ms/step - loss: 0.4213 - accuracy: 0.8397 - val_loss: 0.4235 - val_accuracy: 0.8380\n",
      "Epoch 16/120\n",
      "12/12 [==============================] - 0s 7ms/step - loss: 0.4203 - accuracy: 0.8397 - val_loss: 0.4227 - val_accuracy: 0.8380\n",
      "Epoch 17/120\n",
      "12/12 [==============================] - 0s 7ms/step - loss: 0.4193 - accuracy: 0.8397 - val_loss: 0.4219 - val_accuracy: 0.8380\n",
      "Epoch 18/120\n",
      "12/12 [==============================] - 0s 8ms/step - loss: 0.4184 - accuracy: 0.8397 - val_loss: 0.4211 - val_accuracy: 0.8380\n",
      "Epoch 19/120\n",
      "12/12 [==============================] - 0s 7ms/step - loss: 0.4174 - accuracy: 0.8397 - val_loss: 0.4205 - val_accuracy: 0.8380\n",
      "Epoch 20/120\n",
      "12/12 [==============================] - 0s 6ms/step - loss: 0.4166 - accuracy: 0.8397 - val_loss: 0.4198 - val_accuracy: 0.8380\n",
      "Epoch 21/120\n",
      "12/12 [==============================] - 0s 7ms/step - loss: 0.4157 - accuracy: 0.8397 - val_loss: 0.4191 - val_accuracy: 0.8380\n",
      "Epoch 22/120\n",
      "12/12 [==============================] - 0s 5ms/step - loss: 0.4148 - accuracy: 0.8397 - val_loss: 0.4183 - val_accuracy: 0.8380\n",
      "Epoch 23/120\n",
      "12/12 [==============================] - 0s 7ms/step - loss: 0.4138 - accuracy: 0.8397 - val_loss: 0.4175 - val_accuracy: 0.8380\n",
      "Epoch 24/120\n",
      "12/12 [==============================] - 0s 7ms/step - loss: 0.4127 - accuracy: 0.8397 - val_loss: 0.4168 - val_accuracy: 0.8380\n",
      "Epoch 25/120\n",
      "12/12 [==============================] - 0s 7ms/step - loss: 0.4118 - accuracy: 0.8397 - val_loss: 0.4161 - val_accuracy: 0.8380\n",
      "Epoch 26/120\n",
      "12/12 [==============================] - 0s 7ms/step - loss: 0.4108 - accuracy: 0.8397 - val_loss: 0.4154 - val_accuracy: 0.8380\n",
      "Epoch 27/120\n",
      "12/12 [==============================] - 0s 6ms/step - loss: 0.4099 - accuracy: 0.8397 - val_loss: 0.4147 - val_accuracy: 0.8380\n",
      "Epoch 28/120\n",
      "12/12 [==============================] - 0s 6ms/step - loss: 0.4089 - accuracy: 0.8397 - val_loss: 0.4139 - val_accuracy: 0.8380\n",
      "Epoch 29/120\n",
      "12/12 [==============================] - 0s 7ms/step - loss: 0.4079 - accuracy: 0.8397 - val_loss: 0.4131 - val_accuracy: 0.8380\n",
      "Epoch 30/120\n",
      "12/12 [==============================] - 0s 6ms/step - loss: 0.4069 - accuracy: 0.8397 - val_loss: 0.4124 - val_accuracy: 0.8380\n",
      "Epoch 31/120\n",
      "12/12 [==============================] - 0s 7ms/step - loss: 0.4059 - accuracy: 0.8397 - val_loss: 0.4117 - val_accuracy: 0.8380\n",
      "Epoch 32/120\n",
      "12/12 [==============================] - 0s 7ms/step - loss: 0.4049 - accuracy: 0.8397 - val_loss: 0.4111 - val_accuracy: 0.8380\n",
      "Epoch 33/120\n",
      "12/12 [==============================] - 0s 8ms/step - loss: 0.4041 - accuracy: 0.8397 - val_loss: 0.4102 - val_accuracy: 0.8380\n",
      "Epoch 34/120\n",
      "12/12 [==============================] - 0s 7ms/step - loss: 0.4030 - accuracy: 0.8397 - val_loss: 0.4095 - val_accuracy: 0.8380\n",
      "Epoch 35/120\n",
      "12/12 [==============================] - 0s 6ms/step - loss: 0.4020 - accuracy: 0.8397 - val_loss: 0.4087 - val_accuracy: 0.8380\n",
      "Epoch 36/120\n",
      "12/12 [==============================] - 0s 7ms/step - loss: 0.4011 - accuracy: 0.8397 - val_loss: 0.4079 - val_accuracy: 0.8380\n",
      "Epoch 37/120\n",
      "12/12 [==============================] - 0s 6ms/step - loss: 0.4001 - accuracy: 0.8397 - val_loss: 0.4071 - val_accuracy: 0.8380\n",
      "Epoch 38/120\n",
      "12/12 [==============================] - 0s 6ms/step - loss: 0.3990 - accuracy: 0.8397 - val_loss: 0.4065 - val_accuracy: 0.8380\n",
      "Epoch 39/120\n",
      "12/12 [==============================] - 0s 6ms/step - loss: 0.3981 - accuracy: 0.8397 - val_loss: 0.4057 - val_accuracy: 0.8380\n",
      "Epoch 40/120\n",
      "12/12 [==============================] - 0s 8ms/step - loss: 0.3971 - accuracy: 0.8397 - val_loss: 0.4050 - val_accuracy: 0.8380\n",
      "Epoch 41/120\n",
      "12/12 [==============================] - 0s 9ms/step - loss: 0.3963 - accuracy: 0.8397 - val_loss: 0.4042 - val_accuracy: 0.8380\n",
      "Epoch 42/120\n",
      "12/12 [==============================] - 0s 9ms/step - loss: 0.3952 - accuracy: 0.8397 - val_loss: 0.4034 - val_accuracy: 0.8380\n",
      "Epoch 43/120\n",
      "12/12 [==============================] - 0s 7ms/step - loss: 0.3942 - accuracy: 0.8397 - val_loss: 0.4026 - val_accuracy: 0.8380\n",
      "Epoch 44/120\n",
      "12/12 [==============================] - 0s 7ms/step - loss: 0.3932 - accuracy: 0.8397 - val_loss: 0.4018 - val_accuracy: 0.8380\n",
      "Epoch 45/120\n",
      "12/12 [==============================] - 0s 7ms/step - loss: 0.3923 - accuracy: 0.8397 - val_loss: 0.4011 - val_accuracy: 0.8380\n",
      "Epoch 46/120\n",
      "12/12 [==============================] - 0s 8ms/step - loss: 0.3912 - accuracy: 0.8397 - val_loss: 0.4003 - val_accuracy: 0.8380\n",
      "Epoch 47/120\n",
      "12/12 [==============================] - 0s 8ms/step - loss: 0.3902 - accuracy: 0.8397 - val_loss: 0.3996 - val_accuracy: 0.8380\n",
      "Epoch 48/120\n",
      "12/12 [==============================] - 0s 6ms/step - loss: 0.3892 - accuracy: 0.8397 - val_loss: 0.3988 - val_accuracy: 0.8380\n",
      "Epoch 49/120\n",
      "12/12 [==============================] - 0s 6ms/step - loss: 0.3882 - accuracy: 0.8397 - val_loss: 0.3980 - val_accuracy: 0.8380\n",
      "Epoch 50/120\n",
      "12/12 [==============================] - 0s 6ms/step - loss: 0.3873 - accuracy: 0.8397 - val_loss: 0.3972 - val_accuracy: 0.8380\n",
      "Epoch 51/120\n",
      "12/12 [==============================] - 0s 6ms/step - loss: 0.3862 - accuracy: 0.8397 - val_loss: 0.3965 - val_accuracy: 0.8380\n",
      "Epoch 52/120\n",
      "12/12 [==============================] - 0s 6ms/step - loss: 0.3852 - accuracy: 0.8397 - val_loss: 0.3959 - val_accuracy: 0.8380\n",
      "Epoch 53/120\n",
      "12/12 [==============================] - 0s 7ms/step - loss: 0.3842 - accuracy: 0.8397 - val_loss: 0.3950 - val_accuracy: 0.8380\n",
      "Epoch 54/120\n",
      "12/12 [==============================] - 0s 7ms/step - loss: 0.3832 - accuracy: 0.8397 - val_loss: 0.3944 - val_accuracy: 0.8380\n",
      "Epoch 55/120\n",
      "12/12 [==============================] - 0s 7ms/step - loss: 0.3822 - accuracy: 0.8397 - val_loss: 0.3938 - val_accuracy: 0.8380\n",
      "Epoch 56/120\n",
      "12/12 [==============================] - 0s 6ms/step - loss: 0.3814 - accuracy: 0.8397 - val_loss: 0.3931 - val_accuracy: 0.8380\n",
      "Epoch 57/120\n",
      "12/12 [==============================] - 0s 7ms/step - loss: 0.3804 - accuracy: 0.8400 - val_loss: 0.3922 - val_accuracy: 0.8380\n",
      "Epoch 58/120\n",
      "12/12 [==============================] - 0s 8ms/step - loss: 0.3793 - accuracy: 0.8400 - val_loss: 0.3916 - val_accuracy: 0.8380\n"
     ]
    },
    {
     "name": "stdout",
     "output_type": "stream",
     "text": [
      "Epoch 59/120\n",
      "12/12 [==============================] - 0s 7ms/step - loss: 0.3783 - accuracy: 0.8400 - val_loss: 0.3906 - val_accuracy: 0.8380\n",
      "Epoch 60/120\n",
      "12/12 [==============================] - 0s 6ms/step - loss: 0.3772 - accuracy: 0.8400 - val_loss: 0.3901 - val_accuracy: 0.8380\n",
      "Epoch 61/120\n",
      "12/12 [==============================] - 0s 6ms/step - loss: 0.3762 - accuracy: 0.8400 - val_loss: 0.3894 - val_accuracy: 0.8380\n",
      "Epoch 62/120\n",
      "12/12 [==============================] - 0s 6ms/step - loss: 0.3752 - accuracy: 0.8400 - val_loss: 0.3887 - val_accuracy: 0.8380\n",
      "Epoch 63/120\n",
      "12/12 [==============================] - 0s 7ms/step - loss: 0.3744 - accuracy: 0.8400 - val_loss: 0.3880 - val_accuracy: 0.8380\n",
      "Epoch 64/120\n",
      "12/12 [==============================] - 0s 7ms/step - loss: 0.3734 - accuracy: 0.8400 - val_loss: 0.3872 - val_accuracy: 0.8380\n",
      "Epoch 65/120\n",
      "12/12 [==============================] - 0s 6ms/step - loss: 0.3723 - accuracy: 0.8400 - val_loss: 0.3865 - val_accuracy: 0.8380\n",
      "Epoch 66/120\n",
      "12/12 [==============================] - 0s 9ms/step - loss: 0.3713 - accuracy: 0.8400 - val_loss: 0.3860 - val_accuracy: 0.8380\n",
      "Epoch 67/120\n",
      "12/12 [==============================] - 0s 7ms/step - loss: 0.3704 - accuracy: 0.8400 - val_loss: 0.3853 - val_accuracy: 0.8380\n",
      "Epoch 68/120\n",
      "12/12 [==============================] - 0s 7ms/step - loss: 0.3695 - accuracy: 0.8400 - val_loss: 0.3847 - val_accuracy: 0.8380\n",
      "Epoch 69/120\n",
      "12/12 [==============================] - 0s 7ms/step - loss: 0.3685 - accuracy: 0.8400 - val_loss: 0.3841 - val_accuracy: 0.8394\n",
      "Epoch 70/120\n",
      "12/12 [==============================] - 0s 6ms/step - loss: 0.3676 - accuracy: 0.8400 - val_loss: 0.3837 - val_accuracy: 0.8394\n",
      "Epoch 71/120\n",
      "12/12 [==============================] - 0s 6ms/step - loss: 0.3666 - accuracy: 0.8400 - val_loss: 0.3830 - val_accuracy: 0.8394\n",
      "Epoch 72/120\n",
      "12/12 [==============================] - 0s 8ms/step - loss: 0.3656 - accuracy: 0.8400 - val_loss: 0.3822 - val_accuracy: 0.8394\n",
      "Epoch 73/120\n",
      "12/12 [==============================] - 0s 7ms/step - loss: 0.3646 - accuracy: 0.8404 - val_loss: 0.3815 - val_accuracy: 0.8394\n",
      "Epoch 74/120\n",
      "12/12 [==============================] - 0s 6ms/step - loss: 0.3637 - accuracy: 0.8404 - val_loss: 0.3811 - val_accuracy: 0.8394\n",
      "Epoch 75/120\n",
      "12/12 [==============================] - 0s 6ms/step - loss: 0.3627 - accuracy: 0.8404 - val_loss: 0.3805 - val_accuracy: 0.8408\n",
      "Epoch 76/120\n",
      "12/12 [==============================] - 0s 6ms/step - loss: 0.3618 - accuracy: 0.8411 - val_loss: 0.3800 - val_accuracy: 0.8408\n",
      "Epoch 77/120\n",
      "12/12 [==============================] - 0s 6ms/step - loss: 0.3609 - accuracy: 0.8404 - val_loss: 0.3792 - val_accuracy: 0.8408\n",
      "Epoch 78/120\n",
      "12/12 [==============================] - 0s 6ms/step - loss: 0.3599 - accuracy: 0.8411 - val_loss: 0.3786 - val_accuracy: 0.8408\n",
      "Epoch 79/120\n",
      "12/12 [==============================] - 0s 6ms/step - loss: 0.3589 - accuracy: 0.8414 - val_loss: 0.3780 - val_accuracy: 0.8408\n",
      "Epoch 80/120\n",
      "12/12 [==============================] - 0s 6ms/step - loss: 0.3579 - accuracy: 0.8414 - val_loss: 0.3772 - val_accuracy: 0.8408\n",
      "Epoch 81/120\n",
      "12/12 [==============================] - 0s 6ms/step - loss: 0.3569 - accuracy: 0.8414 - val_loss: 0.3767 - val_accuracy: 0.8408\n",
      "Epoch 82/120\n",
      "12/12 [==============================] - 0s 5ms/step - loss: 0.3558 - accuracy: 0.8418 - val_loss: 0.3762 - val_accuracy: 0.8408\n",
      "Epoch 83/120\n",
      "12/12 [==============================] - 0s 6ms/step - loss: 0.3549 - accuracy: 0.8418 - val_loss: 0.3759 - val_accuracy: 0.8408\n",
      "Epoch 84/120\n",
      "12/12 [==============================] - 0s 6ms/step - loss: 0.3539 - accuracy: 0.8418 - val_loss: 0.3750 - val_accuracy: 0.8408\n",
      "Epoch 85/120\n",
      "12/12 [==============================] - 0s 7ms/step - loss: 0.3528 - accuracy: 0.8425 - val_loss: 0.3743 - val_accuracy: 0.8408\n",
      "Epoch 86/120\n",
      "12/12 [==============================] - 0s 6ms/step - loss: 0.3519 - accuracy: 0.8421 - val_loss: 0.3737 - val_accuracy: 0.8408\n",
      "Epoch 87/120\n",
      "12/12 [==============================] - 0s 6ms/step - loss: 0.3508 - accuracy: 0.8421 - val_loss: 0.3733 - val_accuracy: 0.8408\n",
      "Epoch 88/120\n",
      "12/12 [==============================] - 0s 6ms/step - loss: 0.3498 - accuracy: 0.8421 - val_loss: 0.3729 - val_accuracy: 0.8408\n",
      "Epoch 89/120\n",
      "12/12 [==============================] - 0s 6ms/step - loss: 0.3489 - accuracy: 0.8421 - val_loss: 0.3721 - val_accuracy: 0.8408\n",
      "Epoch 90/120\n",
      "12/12 [==============================] - 0s 6ms/step - loss: 0.3478 - accuracy: 0.8418 - val_loss: 0.3713 - val_accuracy: 0.8408\n",
      "Epoch 91/120\n",
      "12/12 [==============================] - 0s 6ms/step - loss: 0.3468 - accuracy: 0.8428 - val_loss: 0.3708 - val_accuracy: 0.8408\n",
      "Epoch 92/120\n",
      "12/12 [==============================] - 0s 6ms/step - loss: 0.3458 - accuracy: 0.8428 - val_loss: 0.3703 - val_accuracy: 0.8408\n",
      "Epoch 93/120\n",
      "12/12 [==============================] - 0s 6ms/step - loss: 0.3448 - accuracy: 0.8432 - val_loss: 0.3698 - val_accuracy: 0.8408\n",
      "Epoch 94/120\n",
      "12/12 [==============================] - 0s 6ms/step - loss: 0.3438 - accuracy: 0.8436 - val_loss: 0.3695 - val_accuracy: 0.8408\n",
      "Epoch 95/120\n",
      "12/12 [==============================] - 0s 6ms/step - loss: 0.3428 - accuracy: 0.8432 - val_loss: 0.3689 - val_accuracy: 0.8408\n",
      "Epoch 96/120\n",
      "12/12 [==============================] - 0s 8ms/step - loss: 0.3417 - accuracy: 0.8439 - val_loss: 0.3682 - val_accuracy: 0.8408\n",
      "Epoch 97/120\n",
      "12/12 [==============================] - 0s 7ms/step - loss: 0.3408 - accuracy: 0.8446 - val_loss: 0.3677 - val_accuracy: 0.8423\n",
      "Epoch 98/120\n",
      "12/12 [==============================] - 0s 6ms/step - loss: 0.3397 - accuracy: 0.8446 - val_loss: 0.3671 - val_accuracy: 0.8408\n",
      "Epoch 99/120\n",
      "12/12 [==============================] - 0s 6ms/step - loss: 0.3386 - accuracy: 0.8460 - val_loss: 0.3666 - val_accuracy: 0.8423\n",
      "Epoch 100/120\n",
      "12/12 [==============================] - 0s 6ms/step - loss: 0.3376 - accuracy: 0.8464 - val_loss: 0.3660 - val_accuracy: 0.8423\n",
      "Epoch 101/120\n",
      "12/12 [==============================] - 0s 6ms/step - loss: 0.3365 - accuracy: 0.8481 - val_loss: 0.3654 - val_accuracy: 0.8437\n",
      "Epoch 102/120\n",
      "12/12 [==============================] - 0s 6ms/step - loss: 0.3354 - accuracy: 0.8502 - val_loss: 0.3648 - val_accuracy: 0.8437\n",
      "Epoch 103/120\n",
      "12/12 [==============================] - 0s 6ms/step - loss: 0.3343 - accuracy: 0.8495 - val_loss: 0.3643 - val_accuracy: 0.8437\n",
      "Epoch 104/120\n",
      "12/12 [==============================] - 0s 6ms/step - loss: 0.3332 - accuracy: 0.8517 - val_loss: 0.3636 - val_accuracy: 0.8437\n",
      "Epoch 105/120\n",
      "12/12 [==============================] - 0s 7ms/step - loss: 0.3321 - accuracy: 0.8517 - val_loss: 0.3632 - val_accuracy: 0.8437\n",
      "Epoch 106/120\n",
      "12/12 [==============================] - 0s 7ms/step - loss: 0.3311 - accuracy: 0.8517 - val_loss: 0.3626 - val_accuracy: 0.8451\n",
      "Epoch 107/120\n",
      "12/12 [==============================] - 0s 6ms/step - loss: 0.3301 - accuracy: 0.8524 - val_loss: 0.3623 - val_accuracy: 0.8423\n",
      "Epoch 108/120\n",
      "12/12 [==============================] - 0s 6ms/step - loss: 0.3289 - accuracy: 0.8517 - val_loss: 0.3618 - val_accuracy: 0.8423\n",
      "Epoch 109/120\n",
      "12/12 [==============================] - 0s 6ms/step - loss: 0.3279 - accuracy: 0.8520 - val_loss: 0.3613 - val_accuracy: 0.8465\n",
      "Epoch 110/120\n",
      "12/12 [==============================] - 0s 6ms/step - loss: 0.3269 - accuracy: 0.8562 - val_loss: 0.3610 - val_accuracy: 0.8465\n",
      "Epoch 111/120\n",
      "12/12 [==============================] - 0s 6ms/step - loss: 0.3258 - accuracy: 0.8559 - val_loss: 0.3603 - val_accuracy: 0.8465\n",
      "Epoch 112/120\n",
      "12/12 [==============================] - 0s 6ms/step - loss: 0.3247 - accuracy: 0.8576 - val_loss: 0.3599 - val_accuracy: 0.8451\n",
      "Epoch 113/120\n",
      "12/12 [==============================] - 0s 6ms/step - loss: 0.3238 - accuracy: 0.8576 - val_loss: 0.3596 - val_accuracy: 0.8451\n",
      "Epoch 114/120\n",
      "12/12 [==============================] - 0s 6ms/step - loss: 0.3227 - accuracy: 0.8576 - val_loss: 0.3592 - val_accuracy: 0.8451\n",
      "Epoch 115/120\n",
      "12/12 [==============================] - 0s 6ms/step - loss: 0.3216 - accuracy: 0.8598 - val_loss: 0.3588 - val_accuracy: 0.8451\n",
      "Epoch 116/120\n"
     ]
    },
    {
     "name": "stdout",
     "output_type": "stream",
     "text": [
      "12/12 [==============================] - 0s 7ms/step - loss: 0.3205 - accuracy: 0.8580 - val_loss: 0.3584 - val_accuracy: 0.8451\n",
      "Epoch 117/120\n",
      "12/12 [==============================] - 0s 6ms/step - loss: 0.3195 - accuracy: 0.8594 - val_loss: 0.3573 - val_accuracy: 0.8465\n",
      "Epoch 118/120\n",
      "12/12 [==============================] - 0s 8ms/step - loss: 0.3183 - accuracy: 0.8615 - val_loss: 0.3569 - val_accuracy: 0.8465\n",
      "Epoch 119/120\n",
      "12/12 [==============================] - 0s 6ms/step - loss: 0.3173 - accuracy: 0.8636 - val_loss: 0.3561 - val_accuracy: 0.8451\n",
      "Epoch 120/120\n",
      "12/12 [==============================] - 0s 6ms/step - loss: 0.3162 - accuracy: 0.8647 - val_loss: 0.3556 - val_accuracy: 0.8437\n"
     ]
    }
   ],
   "source": [
    "history = model.fit(X_train,\n",
    "                    y_train,\n",
    "                    epochs=120,\n",
    "                    batch_size=256,\n",
    "                    validation_data=(X_val, y_val))"
   ]
  },
  {
   "cell_type": "code",
   "execution_count": 92,
   "metadata": {},
   "outputs": [
    {
     "data": {
      "image/png": "[encoded data removed]",
      "text/plain": [
       "<Figure size 432x288 with 1 Axes>"
      ]
     },
     "metadata": {
      "needs_background": "light"
     },
     "output_type": "display_data"
    }
   ],
   "source": [
    "# Plot the loss vs the number of epoch\n",
    "plt.plot(history.history['loss']);"
   ]
  },
  {
   "cell_type": "code",
   "execution_count": 93,
   "metadata": {},
   "outputs": [
    {
     "data": {
      "image/png": "[encoded data removed]",
      "text/plain": [
       "<Figure size 432x288 with 1 Axes>"
      ]
     },
     "metadata": {
      "needs_background": "light"
     },
     "output_type": "display_data"
    }
   ],
   "source": [
    "# Plot the training accuracy vs the number of epochs\n",
    "plt.plot(history.history['accuracy']);"
   ]
  },
  {
   "cell_type": "code",
   "execution_count": 94,
   "metadata": {},
   "outputs": [
    {
     "name": "stdout",
     "output_type": "stream",
     "text": [
      "23/23 [==============================] - 0s 2ms/step\n"
     ]
    }
   ],
   "source": [
    "# Output (probability) predictions for the test set \n",
    "y_hat_test = model.predict(X_val)"
   ]
  },
  {
   "cell_type": "code",
   "execution_count": 95,
   "metadata": {},
   "outputs": [
    {
     "name": "stdout",
     "output_type": "stream",
     "text": [
      "89/89 [==============================] - 0s 4ms/step - loss: 0.3152 - accuracy: 0.8665\n"
     ]
    },
    {
     "data": {
      "text/plain": [
       "[0.31521666049957275, 0.8664552569389343]"
      ]
     },
     "execution_count": 95,
     "metadata": {},
     "output_type": "execute_result"
    }
   ],
   "source": [
    "# Print the loss and accuracy for the training set \n",
    "results_train = model.evaluate(X_train, y_train)\n",
    "results_train"
   ]
  },
  {
   "cell_type": "code",
   "execution_count": 96,
   "metadata": {},
   "outputs": [
    {
     "name": "stdout",
     "output_type": "stream",
     "text": [
      "23/23 [==============================] - 0s 2ms/step - loss: 0.3556 - accuracy: 0.8437\n"
     ]
    },
    {
     "data": {
      "text/plain": [
       "[0.3555852472782135, 0.8436619639396667]"
      ]
     },
     "execution_count": 96,
     "metadata": {},
     "output_type": "execute_result"
    }
   ],
   "source": [
    "# Print the loss and accuracy for the test set \n",
    "results_test = model.evaluate(X_val, y_val)\n",
    "results_test"
   ]
  },
  {
   "cell_type": "code",
   "execution_count": null,
   "metadata": {},
   "outputs": [],
   "source": []
  },
  {
   "cell_type": "code",
   "execution_count": null,
   "metadata": {},
   "outputs": [],
   "source": []
  },
  {
   "cell_type": "code",
   "execution_count": null,
   "metadata": {},
   "outputs": [],
   "source": []
  },
  {
   "cell_type": "code",
   "execution_count": null,
   "metadata": {},
   "outputs": [],
   "source": []
  },
  {
   "cell_type": "code",
   "execution_count": null,
   "metadata": {},
   "outputs": [],
   "source": []
  },
  {
   "cell_type": "code",
   "execution_count": null,
   "metadata": {},
   "outputs": [],
   "source": []
  },
  {
   "cell_type": "code",
   "execution_count": 85,
   "metadata": {},
   "outputs": [],
   "source": [
    "# REGEX code for 3+ characters:    r\"(?u)\\w{3,}\""
   ]
  },
  {
   "cell_type": "code",
   "execution_count": null,
   "metadata": {},
   "outputs": [],
   "source": []
  }
 ],
 "metadata": {
  "kernelspec": {
   "display_name": "Python (learn-env)",
   "language": "python",
   "name": "learn-env"
  },
  "language_info": {
   "codemirror_mode": {
    "name": "ipython",
    "version": 3
   },
   "file_extension": ".py",
   "mimetype": "text/x-python",
   "name": "python",
   "nbconvert_exporter": "python",
   "pygments_lexer": "ipython3",
   "version": "3.8.5"
  }
 },
 "nbformat": 4,
 "nbformat_minor": 2
}
